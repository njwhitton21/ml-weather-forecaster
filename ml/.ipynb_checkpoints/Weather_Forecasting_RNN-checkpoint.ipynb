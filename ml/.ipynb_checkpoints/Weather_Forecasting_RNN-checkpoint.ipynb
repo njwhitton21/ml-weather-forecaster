{
 "cells": [
  {
   "cell_type": "markdown",
   "metadata": {},
   "source": [
    "<h1>Step 1: Get the datasets </h1>"
   ]
  },
  {
   "cell_type": "code",
   "execution_count": 1,
   "metadata": {
    "scrolled": true
   },
   "outputs": [],
   "source": [
    "import pandas as pd\n",
    "import numpy as np\n",
    "\n",
    "\n",
    "def load_weather_data(csv_file):\n",
    "    city_attrib_csv_path = \"datasets/\" + csv_file\n",
    "    return pd.read_csv(city_attrib_csv_path)"
   ]
  },
  {
   "cell_type": "code",
   "execution_count": 2,
   "metadata": {},
   "outputs": [
    {
     "name": "stdout",
     "output_type": "stream",
     "text": [
      "WARNING:tensorflow:From <ipython-input-2-d019e393a02c>:4: is_gpu_available (from tensorflow.python.framework.test_util) is deprecated and will be removed in a future version.\n",
      "Instructions for updating:\n",
      "Use `tf.config.list_physical_devices('GPU')` instead.\n"
     ]
    },
    {
     "data": {
      "text/plain": [
       "True"
      ]
     },
     "execution_count": 2,
     "metadata": {},
     "output_type": "execute_result"
    }
   ],
   "source": [
    "import tensorflow as tf\n",
    "\n",
    "tf.test.is_built_with_cuda()\n",
    "tf.test.is_gpu_available(cuda_only=False, min_cuda_compute_capability=None)"
   ]
  },
  {
   "cell_type": "code",
   "execution_count": 3,
   "metadata": {},
   "outputs": [],
   "source": [
    "weather_data_with_labels = load_weather_data(\"weather_data_with_labels.csv\")"
   ]
  },
  {
   "cell_type": "code",
   "execution_count": 4,
   "metadata": {},
   "outputs": [
    {
     "data": {
      "text/html": [
       "<div>\n",
       "<style scoped>\n",
       "    .dataframe tbody tr th:only-of-type {\n",
       "        vertical-align: middle;\n",
       "    }\n",
       "\n",
       "    .dataframe tbody tr th {\n",
       "        vertical-align: top;\n",
       "    }\n",
       "\n",
       "    .dataframe thead th {\n",
       "        text-align: right;\n",
       "    }\n",
       "</style>\n",
       "<table border=\"1\" class=\"dataframe\">\n",
       "  <thead>\n",
       "    <tr style=\"text-align: right;\">\n",
       "      <th></th>\n",
       "      <th>month</th>\n",
       "      <th>day</th>\n",
       "      <th>hour_of_day</th>\n",
       "      <th>latitude</th>\n",
       "      <th>longitude</th>\n",
       "      <th>humidity</th>\n",
       "      <th>pressure</th>\n",
       "      <th>temperature</th>\n",
       "      <th>weather_description</th>\n",
       "      <th>wind_direction</th>\n",
       "      <th>wind_speed</th>\n",
       "      <th>humidity_labels</th>\n",
       "      <th>pressure_labels</th>\n",
       "      <th>temperature_labels</th>\n",
       "      <th>description_labels</th>\n",
       "      <th>wind_direction_labels</th>\n",
       "      <th>wind_speed_labels</th>\n",
       "    </tr>\n",
       "  </thead>\n",
       "  <tbody>\n",
       "    <tr>\n",
       "      <th>0</th>\n",
       "      <td>10</td>\n",
       "      <td>1</td>\n",
       "      <td>12</td>\n",
       "      <td>49.249660</td>\n",
       "      <td>-123.119339</td>\n",
       "      <td>NaN</td>\n",
       "      <td>NaN</td>\n",
       "      <td>NaN</td>\n",
       "      <td>NaN</td>\n",
       "      <td>NaN</td>\n",
       "      <td>NaN</td>\n",
       "      <td>76.0</td>\n",
       "      <td>NaN</td>\n",
       "      <td>284.630000</td>\n",
       "      <td>mist</td>\n",
       "      <td>0.0</td>\n",
       "      <td>0.0</td>\n",
       "    </tr>\n",
       "    <tr>\n",
       "      <th>1</th>\n",
       "      <td>10</td>\n",
       "      <td>1</td>\n",
       "      <td>13</td>\n",
       "      <td>49.249660</td>\n",
       "      <td>-123.119339</td>\n",
       "      <td>76.0</td>\n",
       "      <td>NaN</td>\n",
       "      <td>284.630000</td>\n",
       "      <td>mist</td>\n",
       "      <td>0.0</td>\n",
       "      <td>0.0</td>\n",
       "      <td>76.0</td>\n",
       "      <td>NaN</td>\n",
       "      <td>284.629041</td>\n",
       "      <td>broken clouds</td>\n",
       "      <td>6.0</td>\n",
       "      <td>0.0</td>\n",
       "    </tr>\n",
       "    <tr>\n",
       "      <th>2</th>\n",
       "      <td>10</td>\n",
       "      <td>1</td>\n",
       "      <td>14</td>\n",
       "      <td>49.249660</td>\n",
       "      <td>-123.119339</td>\n",
       "      <td>76.0</td>\n",
       "      <td>NaN</td>\n",
       "      <td>284.629041</td>\n",
       "      <td>broken clouds</td>\n",
       "      <td>6.0</td>\n",
       "      <td>0.0</td>\n",
       "      <td>76.0</td>\n",
       "      <td>NaN</td>\n",
       "      <td>284.626998</td>\n",
       "      <td>broken clouds</td>\n",
       "      <td>20.0</td>\n",
       "      <td>0.0</td>\n",
       "    </tr>\n",
       "    <tr>\n",
       "      <th>3</th>\n",
       "      <td>10</td>\n",
       "      <td>1</td>\n",
       "      <td>15</td>\n",
       "      <td>49.249660</td>\n",
       "      <td>-123.119339</td>\n",
       "      <td>76.0</td>\n",
       "      <td>NaN</td>\n",
       "      <td>284.626998</td>\n",
       "      <td>broken clouds</td>\n",
       "      <td>20.0</td>\n",
       "      <td>0.0</td>\n",
       "      <td>77.0</td>\n",
       "      <td>NaN</td>\n",
       "      <td>284.624955</td>\n",
       "      <td>broken clouds</td>\n",
       "      <td>34.0</td>\n",
       "      <td>0.0</td>\n",
       "    </tr>\n",
       "    <tr>\n",
       "      <th>4</th>\n",
       "      <td>10</td>\n",
       "      <td>1</td>\n",
       "      <td>16</td>\n",
       "      <td>49.249660</td>\n",
       "      <td>-123.119339</td>\n",
       "      <td>77.0</td>\n",
       "      <td>NaN</td>\n",
       "      <td>284.624955</td>\n",
       "      <td>broken clouds</td>\n",
       "      <td>34.0</td>\n",
       "      <td>0.0</td>\n",
       "      <td>78.0</td>\n",
       "      <td>NaN</td>\n",
       "      <td>284.622911</td>\n",
       "      <td>broken clouds</td>\n",
       "      <td>47.0</td>\n",
       "      <td>0.0</td>\n",
       "    </tr>\n",
       "    <tr>\n",
       "      <th>...</th>\n",
       "      <td>...</td>\n",
       "      <td>...</td>\n",
       "      <td>...</td>\n",
       "      <td>...</td>\n",
       "      <td>...</td>\n",
       "      <td>...</td>\n",
       "      <td>...</td>\n",
       "      <td>...</td>\n",
       "      <td>...</td>\n",
       "      <td>...</td>\n",
       "      <td>...</td>\n",
       "      <td>...</td>\n",
       "      <td>...</td>\n",
       "      <td>...</td>\n",
       "      <td>...</td>\n",
       "      <td>...</td>\n",
       "      <td>...</td>\n",
       "    </tr>\n",
       "    <tr>\n",
       "      <th>1629103</th>\n",
       "      <td>11</td>\n",
       "      <td>29</td>\n",
       "      <td>20</td>\n",
       "      <td>31.769039</td>\n",
       "      <td>35.216331</td>\n",
       "      <td>NaN</td>\n",
       "      <td>NaN</td>\n",
       "      <td>NaN</td>\n",
       "      <td>NaN</td>\n",
       "      <td>NaN</td>\n",
       "      <td>NaN</td>\n",
       "      <td>NaN</td>\n",
       "      <td>NaN</td>\n",
       "      <td>NaN</td>\n",
       "      <td>NaN</td>\n",
       "      <td>NaN</td>\n",
       "      <td>NaN</td>\n",
       "    </tr>\n",
       "    <tr>\n",
       "      <th>1629104</th>\n",
       "      <td>11</td>\n",
       "      <td>29</td>\n",
       "      <td>21</td>\n",
       "      <td>31.769039</td>\n",
       "      <td>35.216331</td>\n",
       "      <td>NaN</td>\n",
       "      <td>NaN</td>\n",
       "      <td>NaN</td>\n",
       "      <td>NaN</td>\n",
       "      <td>NaN</td>\n",
       "      <td>NaN</td>\n",
       "      <td>NaN</td>\n",
       "      <td>NaN</td>\n",
       "      <td>NaN</td>\n",
       "      <td>NaN</td>\n",
       "      <td>NaN</td>\n",
       "      <td>NaN</td>\n",
       "    </tr>\n",
       "    <tr>\n",
       "      <th>1629105</th>\n",
       "      <td>11</td>\n",
       "      <td>29</td>\n",
       "      <td>22</td>\n",
       "      <td>31.769039</td>\n",
       "      <td>35.216331</td>\n",
       "      <td>NaN</td>\n",
       "      <td>NaN</td>\n",
       "      <td>NaN</td>\n",
       "      <td>NaN</td>\n",
       "      <td>NaN</td>\n",
       "      <td>NaN</td>\n",
       "      <td>NaN</td>\n",
       "      <td>NaN</td>\n",
       "      <td>NaN</td>\n",
       "      <td>NaN</td>\n",
       "      <td>NaN</td>\n",
       "      <td>NaN</td>\n",
       "    </tr>\n",
       "    <tr>\n",
       "      <th>1629106</th>\n",
       "      <td>11</td>\n",
       "      <td>29</td>\n",
       "      <td>23</td>\n",
       "      <td>31.769039</td>\n",
       "      <td>35.216331</td>\n",
       "      <td>NaN</td>\n",
       "      <td>NaN</td>\n",
       "      <td>NaN</td>\n",
       "      <td>NaN</td>\n",
       "      <td>NaN</td>\n",
       "      <td>NaN</td>\n",
       "      <td>NaN</td>\n",
       "      <td>NaN</td>\n",
       "      <td>NaN</td>\n",
       "      <td>NaN</td>\n",
       "      <td>NaN</td>\n",
       "      <td>NaN</td>\n",
       "    </tr>\n",
       "    <tr>\n",
       "      <th>1629107</th>\n",
       "      <td>11</td>\n",
       "      <td>30</td>\n",
       "      <td>0</td>\n",
       "      <td>31.769039</td>\n",
       "      <td>35.216331</td>\n",
       "      <td>NaN</td>\n",
       "      <td>NaN</td>\n",
       "      <td>NaN</td>\n",
       "      <td>NaN</td>\n",
       "      <td>NaN</td>\n",
       "      <td>NaN</td>\n",
       "      <td>NaN</td>\n",
       "      <td>NaN</td>\n",
       "      <td>NaN</td>\n",
       "      <td>NaN</td>\n",
       "      <td>NaN</td>\n",
       "      <td>NaN</td>\n",
       "    </tr>\n",
       "  </tbody>\n",
       "</table>\n",
       "<p>1629108 rows × 17 columns</p>\n",
       "</div>"
      ],
      "text/plain": [
       "         month  day  hour_of_day   latitude   longitude  humidity  pressure  \\\n",
       "0           10    1           12  49.249660 -123.119339       NaN       NaN   \n",
       "1           10    1           13  49.249660 -123.119339      76.0       NaN   \n",
       "2           10    1           14  49.249660 -123.119339      76.0       NaN   \n",
       "3           10    1           15  49.249660 -123.119339      76.0       NaN   \n",
       "4           10    1           16  49.249660 -123.119339      77.0       NaN   \n",
       "...        ...  ...          ...        ...         ...       ...       ...   \n",
       "1629103     11   29           20  31.769039   35.216331       NaN       NaN   \n",
       "1629104     11   29           21  31.769039   35.216331       NaN       NaN   \n",
       "1629105     11   29           22  31.769039   35.216331       NaN       NaN   \n",
       "1629106     11   29           23  31.769039   35.216331       NaN       NaN   \n",
       "1629107     11   30            0  31.769039   35.216331       NaN       NaN   \n",
       "\n",
       "         temperature weather_description  wind_direction  wind_speed  \\\n",
       "0                NaN                 NaN             NaN         NaN   \n",
       "1         284.630000                mist             0.0         0.0   \n",
       "2         284.629041       broken clouds             6.0         0.0   \n",
       "3         284.626998       broken clouds            20.0         0.0   \n",
       "4         284.624955       broken clouds            34.0         0.0   \n",
       "...              ...                 ...             ...         ...   \n",
       "1629103          NaN                 NaN             NaN         NaN   \n",
       "1629104          NaN                 NaN             NaN         NaN   \n",
       "1629105          NaN                 NaN             NaN         NaN   \n",
       "1629106          NaN                 NaN             NaN         NaN   \n",
       "1629107          NaN                 NaN             NaN         NaN   \n",
       "\n",
       "         humidity_labels  pressure_labels  temperature_labels  \\\n",
       "0                   76.0              NaN          284.630000   \n",
       "1                   76.0              NaN          284.629041   \n",
       "2                   76.0              NaN          284.626998   \n",
       "3                   77.0              NaN          284.624955   \n",
       "4                   78.0              NaN          284.622911   \n",
       "...                  ...              ...                 ...   \n",
       "1629103              NaN              NaN                 NaN   \n",
       "1629104              NaN              NaN                 NaN   \n",
       "1629105              NaN              NaN                 NaN   \n",
       "1629106              NaN              NaN                 NaN   \n",
       "1629107              NaN              NaN                 NaN   \n",
       "\n",
       "        description_labels  wind_direction_labels  wind_speed_labels  \n",
       "0                     mist                    0.0                0.0  \n",
       "1            broken clouds                    6.0                0.0  \n",
       "2            broken clouds                   20.0                0.0  \n",
       "3            broken clouds                   34.0                0.0  \n",
       "4            broken clouds                   47.0                0.0  \n",
       "...                    ...                    ...                ...  \n",
       "1629103                NaN                    NaN                NaN  \n",
       "1629104                NaN                    NaN                NaN  \n",
       "1629105                NaN                    NaN                NaN  \n",
       "1629106                NaN                    NaN                NaN  \n",
       "1629107                NaN                    NaN                NaN  \n",
       "\n",
       "[1629108 rows x 17 columns]"
      ]
     },
     "execution_count": 4,
     "metadata": {},
     "output_type": "execute_result"
    }
   ],
   "source": [
    "weather_data_with_labels"
   ]
  },
  {
   "cell_type": "code",
   "execution_count": 5,
   "metadata": {},
   "outputs": [],
   "source": [
    "weather_data_with_labels = weather_data_with_labels.dropna(subset=[\"temperature\"])\n",
    "weather_data_with_labels = weather_data_with_labels.reset_index(drop=True)"
   ]
  },
  {
   "cell_type": "code",
   "execution_count": 6,
   "metadata": {},
   "outputs": [
    {
     "data": {
      "text/html": [
       "<div>\n",
       "<style scoped>\n",
       "    .dataframe tbody tr th:only-of-type {\n",
       "        vertical-align: middle;\n",
       "    }\n",
       "\n",
       "    .dataframe tbody tr th {\n",
       "        vertical-align: top;\n",
       "    }\n",
       "\n",
       "    .dataframe thead th {\n",
       "        text-align: right;\n",
       "    }\n",
       "</style>\n",
       "<table border=\"1\" class=\"dataframe\">\n",
       "  <thead>\n",
       "    <tr style=\"text-align: right;\">\n",
       "      <th></th>\n",
       "      <th>month</th>\n",
       "      <th>day</th>\n",
       "      <th>hour_of_day</th>\n",
       "      <th>latitude</th>\n",
       "      <th>longitude</th>\n",
       "      <th>humidity</th>\n",
       "      <th>pressure</th>\n",
       "      <th>temperature</th>\n",
       "      <th>weather_description</th>\n",
       "      <th>wind_direction</th>\n",
       "      <th>wind_speed</th>\n",
       "      <th>humidity_labels</th>\n",
       "      <th>pressure_labels</th>\n",
       "      <th>temperature_labels</th>\n",
       "      <th>description_labels</th>\n",
       "      <th>wind_direction_labels</th>\n",
       "      <th>wind_speed_labels</th>\n",
       "    </tr>\n",
       "  </thead>\n",
       "  <tbody>\n",
       "    <tr>\n",
       "      <th>0</th>\n",
       "      <td>10</td>\n",
       "      <td>1</td>\n",
       "      <td>13</td>\n",
       "      <td>49.249660</td>\n",
       "      <td>-123.119339</td>\n",
       "      <td>76.0</td>\n",
       "      <td>NaN</td>\n",
       "      <td>284.630000</td>\n",
       "      <td>mist</td>\n",
       "      <td>0.0</td>\n",
       "      <td>0.0</td>\n",
       "      <td>76.0</td>\n",
       "      <td>NaN</td>\n",
       "      <td>284.629041</td>\n",
       "      <td>broken clouds</td>\n",
       "      <td>6.0</td>\n",
       "      <td>0.0</td>\n",
       "    </tr>\n",
       "    <tr>\n",
       "      <th>1</th>\n",
       "      <td>10</td>\n",
       "      <td>1</td>\n",
       "      <td>14</td>\n",
       "      <td>49.249660</td>\n",
       "      <td>-123.119339</td>\n",
       "      <td>76.0</td>\n",
       "      <td>NaN</td>\n",
       "      <td>284.629041</td>\n",
       "      <td>broken clouds</td>\n",
       "      <td>6.0</td>\n",
       "      <td>0.0</td>\n",
       "      <td>76.0</td>\n",
       "      <td>NaN</td>\n",
       "      <td>284.626998</td>\n",
       "      <td>broken clouds</td>\n",
       "      <td>20.0</td>\n",
       "      <td>0.0</td>\n",
       "    </tr>\n",
       "    <tr>\n",
       "      <th>2</th>\n",
       "      <td>10</td>\n",
       "      <td>1</td>\n",
       "      <td>15</td>\n",
       "      <td>49.249660</td>\n",
       "      <td>-123.119339</td>\n",
       "      <td>76.0</td>\n",
       "      <td>NaN</td>\n",
       "      <td>284.626998</td>\n",
       "      <td>broken clouds</td>\n",
       "      <td>20.0</td>\n",
       "      <td>0.0</td>\n",
       "      <td>77.0</td>\n",
       "      <td>NaN</td>\n",
       "      <td>284.624955</td>\n",
       "      <td>broken clouds</td>\n",
       "      <td>34.0</td>\n",
       "      <td>0.0</td>\n",
       "    </tr>\n",
       "    <tr>\n",
       "      <th>3</th>\n",
       "      <td>10</td>\n",
       "      <td>1</td>\n",
       "      <td>16</td>\n",
       "      <td>49.249660</td>\n",
       "      <td>-123.119339</td>\n",
       "      <td>77.0</td>\n",
       "      <td>NaN</td>\n",
       "      <td>284.624955</td>\n",
       "      <td>broken clouds</td>\n",
       "      <td>34.0</td>\n",
       "      <td>0.0</td>\n",
       "      <td>78.0</td>\n",
       "      <td>NaN</td>\n",
       "      <td>284.622911</td>\n",
       "      <td>broken clouds</td>\n",
       "      <td>47.0</td>\n",
       "      <td>0.0</td>\n",
       "    </tr>\n",
       "    <tr>\n",
       "      <th>4</th>\n",
       "      <td>10</td>\n",
       "      <td>1</td>\n",
       "      <td>17</td>\n",
       "      <td>49.249660</td>\n",
       "      <td>-123.119339</td>\n",
       "      <td>78.0</td>\n",
       "      <td>NaN</td>\n",
       "      <td>284.622911</td>\n",
       "      <td>broken clouds</td>\n",
       "      <td>47.0</td>\n",
       "      <td>0.0</td>\n",
       "      <td>78.0</td>\n",
       "      <td>NaN</td>\n",
       "      <td>284.620868</td>\n",
       "      <td>broken clouds</td>\n",
       "      <td>61.0</td>\n",
       "      <td>0.0</td>\n",
       "    </tr>\n",
       "    <tr>\n",
       "      <th>...</th>\n",
       "      <td>...</td>\n",
       "      <td>...</td>\n",
       "      <td>...</td>\n",
       "      <td>...</td>\n",
       "      <td>...</td>\n",
       "      <td>...</td>\n",
       "      <td>...</td>\n",
       "      <td>...</td>\n",
       "      <td>...</td>\n",
       "      <td>...</td>\n",
       "      <td>...</td>\n",
       "      <td>...</td>\n",
       "      <td>...</td>\n",
       "      <td>...</td>\n",
       "      <td>...</td>\n",
       "      <td>...</td>\n",
       "      <td>...</td>\n",
       "    </tr>\n",
       "    <tr>\n",
       "      <th>1621073</th>\n",
       "      <td>10</td>\n",
       "      <td>27</td>\n",
       "      <td>20</td>\n",
       "      <td>31.769039</td>\n",
       "      <td>35.216331</td>\n",
       "      <td>68.0</td>\n",
       "      <td>1011.0</td>\n",
       "      <td>295.760000</td>\n",
       "      <td>sky is clear</td>\n",
       "      <td>0.0</td>\n",
       "      <td>1.0</td>\n",
       "      <td>72.0</td>\n",
       "      <td>1011.0</td>\n",
       "      <td>293.150000</td>\n",
       "      <td>sky is clear</td>\n",
       "      <td>0.0</td>\n",
       "      <td>1.0</td>\n",
       "    </tr>\n",
       "    <tr>\n",
       "      <th>1621074</th>\n",
       "      <td>10</td>\n",
       "      <td>27</td>\n",
       "      <td>21</td>\n",
       "      <td>31.769039</td>\n",
       "      <td>35.216331</td>\n",
       "      <td>72.0</td>\n",
       "      <td>1011.0</td>\n",
       "      <td>293.150000</td>\n",
       "      <td>sky is clear</td>\n",
       "      <td>0.0</td>\n",
       "      <td>1.0</td>\n",
       "      <td>60.0</td>\n",
       "      <td>1011.0</td>\n",
       "      <td>294.150000</td>\n",
       "      <td>sky is clear</td>\n",
       "      <td>0.0</td>\n",
       "      <td>1.0</td>\n",
       "    </tr>\n",
       "    <tr>\n",
       "      <th>1621075</th>\n",
       "      <td>10</td>\n",
       "      <td>27</td>\n",
       "      <td>22</td>\n",
       "      <td>31.769039</td>\n",
       "      <td>35.216331</td>\n",
       "      <td>60.0</td>\n",
       "      <td>1011.0</td>\n",
       "      <td>294.150000</td>\n",
       "      <td>sky is clear</td>\n",
       "      <td>0.0</td>\n",
       "      <td>1.0</td>\n",
       "      <td>56.0</td>\n",
       "      <td>1011.0</td>\n",
       "      <td>294.150000</td>\n",
       "      <td>sky is clear</td>\n",
       "      <td>150.0</td>\n",
       "      <td>3.0</td>\n",
       "    </tr>\n",
       "    <tr>\n",
       "      <th>1621076</th>\n",
       "      <td>10</td>\n",
       "      <td>27</td>\n",
       "      <td>23</td>\n",
       "      <td>31.769039</td>\n",
       "      <td>35.216331</td>\n",
       "      <td>56.0</td>\n",
       "      <td>1011.0</td>\n",
       "      <td>294.150000</td>\n",
       "      <td>sky is clear</td>\n",
       "      <td>150.0</td>\n",
       "      <td>3.0</td>\n",
       "      <td>60.0</td>\n",
       "      <td>1011.0</td>\n",
       "      <td>294.150000</td>\n",
       "      <td>few clouds</td>\n",
       "      <td>0.0</td>\n",
       "      <td>1.0</td>\n",
       "    </tr>\n",
       "    <tr>\n",
       "      <th>1621077</th>\n",
       "      <td>10</td>\n",
       "      <td>28</td>\n",
       "      <td>0</td>\n",
       "      <td>31.769039</td>\n",
       "      <td>35.216331</td>\n",
       "      <td>60.0</td>\n",
       "      <td>1011.0</td>\n",
       "      <td>294.150000</td>\n",
       "      <td>few clouds</td>\n",
       "      <td>0.0</td>\n",
       "      <td>1.0</td>\n",
       "      <td>NaN</td>\n",
       "      <td>NaN</td>\n",
       "      <td>NaN</td>\n",
       "      <td>NaN</td>\n",
       "      <td>NaN</td>\n",
       "      <td>NaN</td>\n",
       "    </tr>\n",
       "  </tbody>\n",
       "</table>\n",
       "<p>1621078 rows × 17 columns</p>\n",
       "</div>"
      ],
      "text/plain": [
       "         month  day  hour_of_day   latitude   longitude  humidity  pressure  \\\n",
       "0           10    1           13  49.249660 -123.119339      76.0       NaN   \n",
       "1           10    1           14  49.249660 -123.119339      76.0       NaN   \n",
       "2           10    1           15  49.249660 -123.119339      76.0       NaN   \n",
       "3           10    1           16  49.249660 -123.119339      77.0       NaN   \n",
       "4           10    1           17  49.249660 -123.119339      78.0       NaN   \n",
       "...        ...  ...          ...        ...         ...       ...       ...   \n",
       "1621073     10   27           20  31.769039   35.216331      68.0    1011.0   \n",
       "1621074     10   27           21  31.769039   35.216331      72.0    1011.0   \n",
       "1621075     10   27           22  31.769039   35.216331      60.0    1011.0   \n",
       "1621076     10   27           23  31.769039   35.216331      56.0    1011.0   \n",
       "1621077     10   28            0  31.769039   35.216331      60.0    1011.0   \n",
       "\n",
       "         temperature weather_description  wind_direction  wind_speed  \\\n",
       "0         284.630000                mist             0.0         0.0   \n",
       "1         284.629041       broken clouds             6.0         0.0   \n",
       "2         284.626998       broken clouds            20.0         0.0   \n",
       "3         284.624955       broken clouds            34.0         0.0   \n",
       "4         284.622911       broken clouds            47.0         0.0   \n",
       "...              ...                 ...             ...         ...   \n",
       "1621073   295.760000        sky is clear             0.0         1.0   \n",
       "1621074   293.150000        sky is clear             0.0         1.0   \n",
       "1621075   294.150000        sky is clear             0.0         1.0   \n",
       "1621076   294.150000        sky is clear           150.0         3.0   \n",
       "1621077   294.150000          few clouds             0.0         1.0   \n",
       "\n",
       "         humidity_labels  pressure_labels  temperature_labels  \\\n",
       "0                   76.0              NaN          284.629041   \n",
       "1                   76.0              NaN          284.626998   \n",
       "2                   77.0              NaN          284.624955   \n",
       "3                   78.0              NaN          284.622911   \n",
       "4                   78.0              NaN          284.620868   \n",
       "...                  ...              ...                 ...   \n",
       "1621073             72.0           1011.0          293.150000   \n",
       "1621074             60.0           1011.0          294.150000   \n",
       "1621075             56.0           1011.0          294.150000   \n",
       "1621076             60.0           1011.0          294.150000   \n",
       "1621077              NaN              NaN                 NaN   \n",
       "\n",
       "        description_labels  wind_direction_labels  wind_speed_labels  \n",
       "0            broken clouds                    6.0                0.0  \n",
       "1            broken clouds                   20.0                0.0  \n",
       "2            broken clouds                   34.0                0.0  \n",
       "3            broken clouds                   47.0                0.0  \n",
       "4            broken clouds                   61.0                0.0  \n",
       "...                    ...                    ...                ...  \n",
       "1621073       sky is clear                    0.0                1.0  \n",
       "1621074       sky is clear                    0.0                1.0  \n",
       "1621075       sky is clear                  150.0                3.0  \n",
       "1621076         few clouds                    0.0                1.0  \n",
       "1621077                NaN                    NaN                NaN  \n",
       "\n",
       "[1621078 rows x 17 columns]"
      ]
     },
     "execution_count": 6,
     "metadata": {},
     "output_type": "execute_result"
    }
   ],
   "source": [
    "weather_data_with_labels"
   ]
  },
  {
   "cell_type": "code",
   "execution_count": 7,
   "metadata": {},
   "outputs": [],
   "source": [
    "training_set = weather_data_with_labels.iloc[:,7:8].values"
   ]
  },
  {
   "cell_type": "code",
   "execution_count": 8,
   "metadata": {},
   "outputs": [
    {
     "data": {
      "text/plain": [
       "array([284.62904131])"
      ]
     },
     "execution_count": 8,
     "metadata": {},
     "output_type": "execute_result"
    }
   ],
   "source": [
    "training_set[1]"
   ]
  },
  {
   "cell_type": "code",
   "execution_count": 9,
   "metadata": {},
   "outputs": [],
   "source": [
    "#Feature Scaling \n",
    "from sklearn.preprocessing import MinMaxScaler\n",
    "sc = MinMaxScaler(feature_range=(0,1))\n",
    "training_set_scaled = sc.fit_transform(training_set)"
   ]
  },
  {
   "cell_type": "code",
   "execution_count": 10,
   "metadata": {},
   "outputs": [],
   "source": [
    "\n",
    "def gethourlydata(past_hours=24):\n",
    "    x_train = []\n",
    "    y_train = []\n",
    "    future_hours = 12\n",
    "\n",
    "    # only using 50000 rows of the dataset for now\n",
    "    # add previous hours to a row of the x_train dataset\n",
    "    # add future hours for weather in y_train\n",
    "    for i in range(0,50000):\n",
    "        x_train.append(training_set_scaled[i : i + past_hours])     \n",
    "        y_train.append(training_set_scaled[i + past_hours : i + future_hours + past_hours])\n",
    "\n",
    "    x_train , y_train = np.array(x_train), np.array(y_train)\n",
    "    #x_train = np.reshape(x_train, (x_train.shape[0] , x_train.shape[1], 1) )\n",
    "\n",
    "    return np.array(x_train), np.array(y_train)"
   ]
  },
  {
   "cell_type": "code",
   "execution_count": 11,
   "metadata": {},
   "outputs": [],
   "source": [
    "past_hours = 48\n",
    "future_hours = 12\n",
    "x_train, y_train = gethourlydata(past_hours=48)"
   ]
  },
  {
   "cell_type": "code",
   "execution_count": 12,
   "metadata": {},
   "outputs": [
    {
     "data": {
      "text/plain": [
       "10000"
      ]
     },
     "execution_count": 12,
     "metadata": {},
     "output_type": "execute_result"
    }
   ],
   "source": [
    "x_train[35000:45000].shape[0]"
   ]
  },
  {
   "cell_type": "code",
   "execution_count": 13,
   "metadata": {},
   "outputs": [
    {
     "data": {
      "text/plain": [
       "array([[[0.54870061],\n",
       "        [0.55909571],\n",
       "        [0.59066131],\n",
       "        [0.60473273],\n",
       "        [0.62070568],\n",
       "        [0.64339742],\n",
       "        [0.64339742],\n",
       "        [0.61943799],\n",
       "        [0.59978872],\n",
       "        [0.56771604],\n",
       "        [0.55884217],\n",
       "        [0.54553138]]])"
      ]
     },
     "execution_count": 13,
     "metadata": {},
     "output_type": "execute_result"
    }
   ],
   "source": [
    "y_train[100:101]"
   ]
  },
  {
   "cell_type": "code",
   "execution_count": 14,
   "metadata": {},
   "outputs": [],
   "source": [
    "x_valid, y_valid = x_train[35000:45000, :past_hours], y_train[35000:45000, :future_hours]\n",
    "x_test, y_test = x_train[45000:, :past_hours], y_train[45000:, :future_hours]\n",
    "x_train, y_train = x_train[:35000, :past_hours], y_train[:35000, :future_hours]"
   ]
  },
  {
   "cell_type": "code",
   "execution_count": 15,
   "metadata": {},
   "outputs": [],
   "source": [
    "from tensorflow import keras\n",
    "\n",
    "model = keras.models.Sequential([\n",
    "    keras.layers.LSTM(30, return_sequences=True, input_shape=[None, 1]),\n",
    "    keras.layers.LSTM(30, return_sequences=True),\n",
    "    keras.layers.LSTM(30),\n",
    "    keras.layers.Dense(12)\n",
    "])\n",
    "\n",
    "def last_time_step_mse(Y_true, Y_pred):\n",
    "    return keras.metrics.mean_squared_error(Y_true[:, -1], Y_pred[:, -1])\n",
    "#optimizer = keras.optimizers.Adam(lr=0.01)\n",
    "\n",
    "model.compile(loss=\"mse\", optimizer=\"adam\")"
   ]
  },
  {
   "cell_type": "code",
   "execution_count": 16,
   "metadata": {},
   "outputs": [
    {
     "data": {
      "text/plain": [
       "array([[0.5973801 ],\n",
       "       [0.58178745],\n",
       "       [0.54603845],\n",
       "       [0.52005071],\n",
       "       [0.51295162],\n",
       "       [0.50585252],\n",
       "       [0.50559899],\n",
       "       [0.50559899],\n",
       "       [0.50889499],\n",
       "       [0.50788084],\n",
       "       [0.5034439 ],\n",
       "       [0.50800761]])"
      ]
     },
     "execution_count": 16,
     "metadata": {},
     "output_type": "execute_result"
    }
   ],
   "source": [
    "y_valid[1]"
   ]
  },
  {
   "cell_type": "code",
   "execution_count": 17,
   "metadata": {},
   "outputs": [
    {
     "name": "stdout",
     "output_type": "stream",
     "text": [
      "Train on 35000 samples, validate on 10000 samples\n",
      "Epoch 1/200\n",
      "35000/35000 [==============================] - 11s 320us/sample - loss: 0.0065 - val_loss: 0.0016\n",
      "Epoch 2/200\n",
      "35000/35000 [==============================] - 7s 208us/sample - loss: 0.0013 - val_loss: 0.0014\n",
      "Epoch 3/200\n",
      "35000/35000 [==============================] - 7s 208us/sample - loss: 8.1158e-04 - val_loss: 9.5953e-04\n",
      "Epoch 4/200\n",
      "35000/35000 [==============================] - 7s 208us/sample - loss: 6.9665e-04 - val_loss: 8.0079e-04\n",
      "Epoch 5/200\n",
      "35000/35000 [==============================] - 7s 208us/sample - loss: 6.6181e-04 - val_loss: 0.0012\n",
      "Epoch 6/200\n",
      "35000/35000 [==============================] - 7s 209us/sample - loss: 6.4051e-04 - val_loss: 7.5088e-04\n",
      "Epoch 7/200\n",
      "35000/35000 [==============================] - 7s 208us/sample - loss: 6.2391e-04 - val_loss: 7.0107e-04\n",
      "Epoch 8/200\n",
      "35000/35000 [==============================] - 7s 207us/sample - loss: 5.9499e-04 - val_loss: 6.7603e-04\n",
      "Epoch 9/200\n",
      "35000/35000 [==============================] - 7s 207us/sample - loss: 5.8492e-04 - val_loss: 6.6455e-04\n",
      "Epoch 10/200\n",
      "35000/35000 [==============================] - 7s 207us/sample - loss: 5.7210e-04 - val_loss: 6.7159e-04\n",
      "Epoch 11/200\n",
      "35000/35000 [==============================] - 7s 207us/sample - loss: 5.5732e-04 - val_loss: 6.4609e-04\n",
      "Epoch 12/200\n",
      "35000/35000 [==============================] - 7s 208us/sample - loss: 5.4288e-04 - val_loss: 6.3978e-04\n",
      "Epoch 13/200\n",
      "35000/35000 [==============================] - 7s 208us/sample - loss: 5.3318e-04 - val_loss: 6.2406e-04\n",
      "Epoch 14/200\n",
      "35000/35000 [==============================] - 7s 208us/sample - loss: 5.2814e-04 - val_loss: 6.7721e-04\n",
      "Epoch 15/200\n",
      "35000/35000 [==============================] - 7s 208us/sample - loss: 5.1224e-04 - val_loss: 5.9226e-04\n",
      "Epoch 16/200\n",
      "35000/35000 [==============================] - 7s 208us/sample - loss: 5.0395e-04 - val_loss: 6.2157e-04\n",
      "Epoch 17/200\n",
      "35000/35000 [==============================] - 7s 207us/sample - loss: 4.9702e-04 - val_loss: 5.6504e-04\n",
      "Epoch 18/200\n",
      "35000/35000 [==============================] - 7s 208us/sample - loss: 4.7974e-04 - val_loss: 5.5415e-04\n",
      "Epoch 19/200\n",
      "35000/35000 [==============================] - 8s 226us/sample - loss: 4.7753e-04 - val_loss: 5.9484e-04\n",
      "Epoch 20/200\n",
      "35000/35000 [==============================] - 8s 224us/sample - loss: 4.7461e-04 - val_loss: 5.5318e-04\n",
      "Epoch 21/200\n",
      "35000/35000 [==============================] - 7s 211us/sample - loss: 4.6733e-04 - val_loss: 6.0688e-04\n",
      "Epoch 22/200\n",
      "35000/35000 [==============================] - 7s 211us/sample - loss: 4.6052e-04 - val_loss: 5.8663e-04\n",
      "Epoch 23/200\n",
      "35000/35000 [==============================] - 8s 222us/sample - loss: 4.5612e-04 - val_loss: 5.3289e-04\n",
      "Epoch 24/200\n",
      "35000/35000 [==============================] - 8s 215us/sample - loss: 4.5736e-04 - val_loss: 5.5513e-04\n",
      "Epoch 25/200\n",
      "35000/35000 [==============================] - 7s 209us/sample - loss: 4.5358e-04 - val_loss: 5.3272e-04\n",
      "Epoch 26/200\n",
      "35000/35000 [==============================] - 7s 208us/sample - loss: 4.4921e-04 - val_loss: 5.4771e-04\n",
      "Epoch 27/200\n",
      "35000/35000 [==============================] - 7s 207us/sample - loss: 4.4793e-04 - val_loss: 5.2761e-04\n",
      "Epoch 28/200\n",
      "35000/35000 [==============================] - 7s 208us/sample - loss: 4.4475e-04 - val_loss: 6.1949e-04\n",
      "Epoch 29/200\n",
      "35000/35000 [==============================] - 7s 208us/sample - loss: 4.4597e-04 - val_loss: 5.2532e-04\n",
      "Epoch 30/200\n",
      "35000/35000 [==============================] - 7s 209us/sample - loss: 4.4386e-04 - val_loss: 5.3607e-04\n",
      "Epoch 31/200\n",
      "35000/35000 [==============================] - 7s 211us/sample - loss: 4.4428e-04 - val_loss: 5.1989e-04\n",
      "Epoch 32/200\n",
      "35000/35000 [==============================] - 7s 207us/sample - loss: 4.3611e-04 - val_loss: 5.1173e-04\n",
      "Epoch 33/200\n",
      "35000/35000 [==============================] - 7s 207us/sample - loss: 4.4187e-04 - val_loss: 5.8231e-04\n",
      "Epoch 34/200\n",
      "35000/35000 [==============================] - 7s 207us/sample - loss: 4.3816e-04 - val_loss: 5.7540e-04\n",
      "Epoch 35/200\n",
      "35000/35000 [==============================] - 7s 208us/sample - loss: 4.3028e-04 - val_loss: 5.3133e-04\n",
      "Epoch 36/200\n",
      "35000/35000 [==============================] - 7s 208us/sample - loss: 4.3585e-04 - val_loss: 5.0917e-04\n",
      "Epoch 37/200\n",
      "35000/35000 [==============================] - 7s 208us/sample - loss: 4.2695e-04 - val_loss: 5.1085e-04\n",
      "Epoch 38/200\n",
      "35000/35000 [==============================] - 7s 208us/sample - loss: 4.2703e-04 - val_loss: 5.0874e-04\n",
      "Epoch 39/200\n",
      "35000/35000 [==============================] - 7s 208us/sample - loss: 4.3104e-04 - val_loss: 5.0023e-04\n",
      "Epoch 40/200\n",
      "35000/35000 [==============================] - 7s 208us/sample - loss: 4.2520e-04 - val_loss: 5.2461e-04\n",
      "Epoch 41/200\n",
      "35000/35000 [==============================] - 7s 207us/sample - loss: 4.2089e-04 - val_loss: 5.2446e-04\n",
      "Epoch 42/200\n",
      "35000/35000 [==============================] - 7s 207us/sample - loss: 4.1920e-04 - val_loss: 5.3480e-04\n",
      "Epoch 43/200\n",
      "35000/35000 [==============================] - 7s 208us/sample - loss: 4.1872e-04 - val_loss: 5.1886e-04\n",
      "Epoch 44/200\n",
      "35000/35000 [==============================] - 7s 209us/sample - loss: 4.1635e-04 - val_loss: 4.9908e-04\n",
      "Epoch 45/200\n",
      "35000/35000 [==============================] - 7s 209us/sample - loss: 4.1176e-04 - val_loss: 4.9983e-04\n",
      "Epoch 46/200\n",
      "35000/35000 [==============================] - 7s 208us/sample - loss: 4.1046e-04 - val_loss: 5.2654e-04\n",
      "Epoch 47/200\n",
      "35000/35000 [==============================] - 7s 208us/sample - loss: 4.0737e-04 - val_loss: 5.1193e-04\n",
      "Epoch 48/200\n",
      "35000/35000 [==============================] - 7s 208us/sample - loss: 4.0750e-04 - val_loss: 4.9379e-04\n",
      "Epoch 49/200\n",
      "35000/35000 [==============================] - 7s 207us/sample - loss: 4.0701e-04 - val_loss: 5.4673e-04\n",
      "Epoch 50/200\n",
      "35000/35000 [==============================] - 7s 208us/sample - loss: 4.0674e-04 - val_loss: 5.1073e-04\n",
      "Epoch 51/200\n",
      "35000/35000 [==============================] - 7s 208us/sample - loss: 3.9702e-04 - val_loss: 4.9555e-04\n",
      "Epoch 52/200\n",
      "35000/35000 [==============================] - 7s 207us/sample - loss: 3.9776e-04 - val_loss: 6.0154e-04\n",
      "Epoch 53/200\n",
      "35000/35000 [==============================] - 7s 209us/sample - loss: 3.9823e-04 - val_loss: 5.0455e-04\n",
      "Epoch 54/200\n",
      "35000/35000 [==============================] - 8s 223us/sample - loss: 3.9145e-04 - val_loss: 5.0233e-04\n",
      "Epoch 55/200\n",
      "35000/35000 [==============================] - 7s 211us/sample - loss: 3.9237e-04 - val_loss: 4.9147e-04\n",
      "Epoch 56/200\n",
      "35000/35000 [==============================] - 7s 209us/sample - loss: 3.8964e-04 - val_loss: 5.0630e-04\n",
      "Epoch 57/200\n",
      "35000/35000 [==============================] - 7s 212us/sample - loss: 3.8634e-04 - val_loss: 5.1655e-04\n",
      "Epoch 58/200\n",
      "35000/35000 [==============================] - 7s 210us/sample - loss: 3.8987e-04 - val_loss: 5.0117e-04\n",
      "Epoch 59/200\n",
      "35000/35000 [==============================] - 7s 208us/sample - loss: 3.8606e-04 - val_loss: 5.0449e-04\n",
      "Epoch 60/200\n",
      "35000/35000 [==============================] - 7s 208us/sample - loss: 3.8423e-04 - val_loss: 5.1673e-04\n",
      "Epoch 61/200\n",
      "35000/35000 [==============================] - 7s 207us/sample - loss: 3.8318e-04 - val_loss: 5.0141e-04\n",
      "Epoch 62/200\n",
      "35000/35000 [==============================] - 7s 207us/sample - loss: 3.8071e-04 - val_loss: 4.9656e-04\n",
      "Epoch 63/200\n",
      "35000/35000 [==============================] - 7s 208us/sample - loss: 3.7981e-04 - val_loss: 4.9335e-04\n",
      "Epoch 64/200\n",
      "35000/35000 [==============================] - 7s 208us/sample - loss: 3.7788e-04 - val_loss: 4.9107e-04\n",
      "Epoch 65/200\n",
      "35000/35000 [==============================] - 7s 210us/sample - loss: 3.7826e-04 - val_loss: 4.9559e-04\n",
      "Epoch 66/200\n",
      "35000/35000 [==============================] - 7s 208us/sample - loss: 3.7572e-04 - val_loss: 5.0752e-04\n",
      "Epoch 67/200\n",
      "35000/35000 [==============================] - 7s 208us/sample - loss: 3.7135e-04 - val_loss: 4.8889e-04\n",
      "Epoch 68/200\n",
      "35000/35000 [==============================] - 7s 208us/sample - loss: 3.6954e-04 - val_loss: 5.0714e-04\n",
      "Epoch 69/200\n",
      "35000/35000 [==============================] - 7s 208us/sample - loss: 3.6992e-04 - val_loss: 5.0089e-04\n",
      "Epoch 70/200\n"
     ]
    },
    {
     "name": "stdout",
     "output_type": "stream",
     "text": [
      "35000/35000 [==============================] - 7s 209us/sample - loss: 3.6695e-04 - val_loss: 5.0271e-04\n",
      "Epoch 71/200\n",
      "35000/35000 [==============================] - 7s 208us/sample - loss: 3.6477e-04 - val_loss: 5.3526e-04\n",
      "Epoch 72/200\n",
      "35000/35000 [==============================] - 7s 208us/sample - loss: 3.6507e-04 - val_loss: 4.9260e-04\n",
      "Epoch 73/200\n",
      "35000/35000 [==============================] - 7s 208us/sample - loss: 3.6296e-04 - val_loss: 5.1673e-04\n",
      "Epoch 74/200\n",
      "35000/35000 [==============================] - 7s 209us/sample - loss: 3.6211e-04 - val_loss: 4.9705e-04\n",
      "Epoch 75/200\n",
      "35000/35000 [==============================] - 7s 208us/sample - loss: 3.6033e-04 - val_loss: 5.1896e-04\n",
      "Epoch 76/200\n",
      "35000/35000 [==============================] - 7s 209us/sample - loss: 3.5921e-04 - val_loss: 5.3068e-04\n",
      "Epoch 77/200\n",
      "35000/35000 [==============================] - 7s 208us/sample - loss: 3.5871e-04 - val_loss: 4.9336e-04\n"
     ]
    },
    {
     "data": {
      "text/plain": [
       "<tensorflow.python.keras.callbacks.History at 0x2da065cd208>"
      ]
     },
     "execution_count": 17,
     "metadata": {},
     "output_type": "execute_result"
    }
   ],
   "source": [
    "model.fit(x_train, y_train, epochs=200, validation_data=(x_valid, y_valid), \n",
    "         callbacks=[keras.callbacks.EarlyStopping(patience=10)], batch_size=64)"
   ]
  },
  {
   "cell_type": "code",
   "execution_count": 18,
   "metadata": {},
   "outputs": [],
   "source": [
    "testdataset = training_set_scaled[45000:45023]\n",
    "realvalue = sc.inverse_transform(training_set_scaled[45023:45024])"
   ]
  },
  {
   "cell_type": "code",
   "execution_count": 19,
   "metadata": {},
   "outputs": [
    {
     "name": "stdout",
     "output_type": "stream",
     "text": [
      "5000/5000 [==============================] - 1s 185us/sample - loss: 5.9281e-04\n"
     ]
    }
   ],
   "source": [
    "# 23 hours - 7.8006e-04 loss\n",
    "# 48 hours - 7.6 loss\n",
    "# 12 hours - 5.16 loss\n",
    "# 12 hours - 3.893 2 hidden layers one dense layer\n",
    "# 24 hours - 3.1172 2 hidden LMST layers one dense layer\n",
    "# 36 hours - 2.7172 2 hidden LMST layers one dense layer\n",
    "\n",
    "# 12 hour forecast - 48 hours - loss 6.2021\n",
    "#                    72 hours - loss 6.6\n",
    "#                    48 hours - loss 5.9 with 2 hidden layers\n",
    "#                    72 hours - loss 6.1 with 2 hidden layers and 48 neurons\n",
    "mse_test = model.evaluate(x_test, y_test)"
   ]
  },
  {
   "cell_type": "code",
   "execution_count": 508,
   "metadata": {},
   "outputs": [],
   "source": [
    "model.save(\"temp_model.h5\")"
   ]
  },
  {
   "cell_type": "code",
   "execution_count": 512,
   "metadata": {},
   "outputs": [],
   "source": [
    "model = keras.models.load_model(\"temp_model.h5\")"
   ]
  },
  {
   "cell_type": "code",
   "execution_count": 148,
   "metadata": {},
   "outputs": [
    {
     "name": "stdout",
     "output_type": "stream",
     "text": [
      "5000/5000 [==============================] - 1s 283us/sample - loss: 0.2459\n"
     ]
    }
   ],
   "source": [
    "mse_test = model.evaluate(x_test, y_test)"
   ]
  },
  {
   "cell_type": "code",
   "execution_count": 156,
   "metadata": {},
   "outputs": [
    {
     "data": {
      "text/plain": [
       "array([[0.35381725, 0.3596736 , 0.36333048, 0.367871  , 0.36936575,\n",
       "        0.3753712 , 0.3830894 , 0.38936824, 0.400045  , 0.4061861 ,\n",
       "        0.41096938, 0.41329512]], dtype=float32)"
      ]
     },
     "execution_count": 156,
     "metadata": {},
     "output_type": "execute_result"
    }
   ],
   "source": [
    "model.predict(x_test[2000:2001])"
   ]
  },
  {
   "cell_type": "code",
   "execution_count": 150,
   "metadata": {},
   "outputs": [
    {
     "data": {
      "text/plain": [
       "array([[[0.34561589],\n",
       "        [0.34561589],\n",
       "        [0.40469047],\n",
       "        [0.40469047],\n",
       "        [0.40304247],\n",
       "        [0.40228185],\n",
       "        [0.40380308],\n",
       "        [0.40392985],\n",
       "        [0.40633847],\n",
       "        [0.41140925],\n",
       "        [0.41229664],\n",
       "        [0.41381787]]])"
      ]
     },
     "execution_count": 150,
     "metadata": {},
     "output_type": "execute_result"
    }
   ],
   "source": [
    "y_test[2000:2001]"
   ]
  },
  {
   "cell_type": "code",
   "execution_count": 170,
   "metadata": {},
   "outputs": [
    {
     "data": {
      "text/plain": [
       "<tf.Tensor: shape=(5,), dtype=float32, numpy=\n",
       "array([0.00067175, 0.00142141, 0.00113675, 0.00152775, 0.00079585],\n",
       "      dtype=float32)>"
      ]
     },
     "execution_count": 170,
     "metadata": {},
     "output_type": "execute_result"
    }
   ],
   "source": [
    "keras.losses.mean_squared_error(y_test[110:115], y_pred)"
   ]
  },
  {
   "cell_type": "code",
   "execution_count": 83,
   "metadata": {},
   "outputs": [],
   "source": [
    "from tensorflow import keras"
   ]
  },
  {
   "cell_type": "code",
   "execution_count": 84,
   "metadata": {},
   "outputs": [
    {
     "name": "stdout",
     "output_type": "stream",
     "text": [
      "Train on 50000 samples\n",
      "Epoch 1/2\n",
      "50000/50000 [==============================] - 47s 933us/sample - loss: 0.0130 - acc: 0.2425\n",
      "Epoch 2/2\n",
      "50000/50000 [==============================] - 40s 801us/sample - loss: 0.0044 - acc: 0.2451\n"
     ]
    },
    {
     "data": {
      "text/plain": [
       "<tensorflow.python.keras.callbacks.History at 0x193ac4d90>"
      ]
     },
     "execution_count": 84,
     "metadata": {},
     "output_type": "execute_result"
    }
   ],
   "source": [
    "regressor = keras.models.Sequential()\n",
    "\n",
    "regressor.add(keras.layers.Bidirectional(keras.layers.LSTM(units=30, \n",
    "                                 return_sequences=True, \n",
    "                                 input_shape = (x_train.shape[1],1) ) ))\n",
    "regressor.add(keras.layers.Dropout(0.2))\n",
    "\n",
    "regressor.add(keras.layers.LSTM(units= 30 , return_sequences=True))\n",
    "regressor.add(keras.layers.Dropout(0.2))\n",
    "\n",
    "regressor.add(keras.layers.LSTM(units= 30 , return_sequences=True))\n",
    "regressor.add(keras.layers.Dropout(0.2))\n",
    "\n",
    "regressor.add(keras.layers.LSTM(units= 30))\n",
    "regressor.add(keras.layers.Dropout(0.2))\n",
    "\n",
    "regressor.add(keras.layers.Dense(units = n_future,activation='linear'))\n",
    "regressor.compile(optimizer='adam', loss='mean_squared_error',metrics=['acc'])\n",
    "regressor.fit(x_train, y_train, epochs=2,batch_size=128 )"
   ]
  },
  {
   "cell_type": "code",
   "execution_count": 86,
   "metadata": {},
   "outputs": [
    {
     "name": "stdout",
     "output_type": "stream",
     "text": [
      "[[283.33]\n",
      " [282.94]\n",
      " [282.55]\n",
      " [282.15]\n",
      " [282.54]\n",
      " [282.15]\n",
      " [282.54]\n",
      " [280.25]\n",
      " [280.95]\n",
      " [281.85]\n",
      " [283.42]\n",
      " [285.29]\n",
      " [286.3 ]\n",
      " [286.87]\n",
      " [286.86]\n",
      " [286.73]\n",
      " [286.88]\n",
      " [286.88]\n",
      " [286.02]\n",
      " [285.74]\n",
      " [284.33]\n",
      " [283.32]\n",
      " [282.37]\n",
      " [282.38]\n",
      " [281.99]\n",
      " [281.2 ]\n",
      " [280.6 ]\n",
      " [277.53]\n",
      " [276.99]\n",
      " [276.96]]\n",
      "[[280.38]\n",
      " [281.02]\n",
      " [281.72]\n",
      " [282.32]]\n"
     ]
    }
   ],
   "source": [
    "testdataset = training_set_scaled[40000:40030]\n",
    "print(sc.inverse_transform(testdataset))\n",
    "realvalues = sc.inverse_transform(training_set_scaled[40030:40034])\n",
    "print(realvalues)\n",
    "testdataset = np.reshape(testdataset,(testdataset.shape[1],testdataset.shape[0],1))"
   ]
  },
  {
   "cell_type": "code",
   "execution_count": 88,
   "metadata": {},
   "outputs": [],
   "source": [
    "predicted_temperature = regressor.predict(testdataset)\n",
    "predicted_temperature = sc.inverse_transform(predicted_temperature)\n",
    "predicted_temperature = np.reshape(predicted_temperature,(predicted_temperature.shape[1],predicted_temperature.shape[0]))"
   ]
  },
  {
   "cell_type": "code",
   "execution_count": 89,
   "metadata": {},
   "outputs": [
    {
     "data": {
      "text/plain": [
       "array([[282.9921 ],\n",
       "       [283.04633],\n",
       "       [283.08838],\n",
       "       [283.04767]], dtype=float32)"
      ]
     },
     "execution_count": 89,
     "metadata": {},
     "output_type": "execute_result"
    }
   ],
   "source": [
    "predicted_temperature"
   ]
  },
  {
   "cell_type": "code",
   "execution_count": 90,
   "metadata": {},
   "outputs": [
    {
     "data": {
      "text/plain": [
       "array([[280.38],\n",
       "       [281.02],\n",
       "       [281.72],\n",
       "       [282.32]])"
      ]
     },
     "execution_count": 90,
     "metadata": {},
     "output_type": "execute_result"
    }
   ],
   "source": [
    "realvalues"
   ]
  },
  {
   "cell_type": "code",
   "execution_count": null,
   "metadata": {},
   "outputs": [],
   "source": []
  }
 ],
 "metadata": {
  "kernelspec": {
   "display_name": "Python 3",
   "language": "python",
   "name": "python3"
  },
  "language_info": {
   "codemirror_mode": {
    "name": "ipython",
    "version": 3
   },
   "file_extension": ".py",
   "mimetype": "text/x-python",
   "name": "python",
   "nbconvert_exporter": "python",
   "pygments_lexer": "ipython3",
   "version": "3.7.6"
  }
 },
 "nbformat": 4,
 "nbformat_minor": 2
}
