{
 "cells": [
  {
   "cell_type": "markdown",
   "metadata": {},
   "source": [
    "<h1> Practice Machine Learning Project with Weather Data</h1>\n",
    "<h3> Step 1: Load the weather data from the csv files in the dataset folder</h3>"
   ]
  },
  {
   "cell_type": "code",
   "execution_count": 104,
   "metadata": {},
   "outputs": [],
   "source": [
    "import pandas as pd\n",
    "\n",
    "def load_weather_data(csv_file):\n",
    "    city_attrib_csv_path = \"datasets/historical-hourly-weather-data/\" + csv_file\n",
    "    return pd.read_csv(city_attrib_csv_path)"
   ]
  },
  {
   "cell_type": "markdown",
   "metadata": {},
   "source": [
    "<h3>Step 2: Assign the loaded weather data to values for the new table</h3>"
   ]
  },
  {
   "cell_type": "code",
   "execution_count": 173,
   "metadata": {},
   "outputs": [],
   "source": [
    "city_attributes = load_weather_data(\"city_attributes.csv\")\n",
    "humidity = load_weather_data(\"humidity.csv\")\n",
    "pressure = load_weather_data(\"pressure.csv\")\n",
    "temperature = load_weather_data(\"temperature.csv\")\n",
    "weather_description = load_weather_data(\"weather_description.csv\")\n",
    "wind_direction = load_weather_data(\"wind_direction.csv\")\n",
    "wind_speed = load_weather_data(\"wind_speed.csv\")"
   ]
  },
  {
   "cell_type": "markdown",
   "metadata": {},
   "source": [
    "<h3>Step 3: Create a new dataset for a specific city</h3>"
   ]
  },
  {
   "cell_type": "code",
   "execution_count": 174,
   "metadata": {},
   "outputs": [],
   "source": [
    "def load_city_dataset(city_name):\n",
    "    city_dataset = pd.DataFrame(data=humidity[\"datetime\"])\n",
    "    \n",
    "    # create new columns for month, day, hour_of_day\n",
    "    # this will be used to split up data in \"datatime\" column\n",
    "    city_dataset[\"month\"] = \"\"\n",
    "    city_dataset[\"day\"] = \"\"\n",
    "    city_dataset[\"hour_of_day\"] = \"\"\n",
    "    \n",
    "    # seperate the values for datetime into month, day, hour_of_day int columns\n",
    "    for i, date in enumerate(city_dataset[\"datetime\"]):\n",
    "        date, time = date.split(\" \", 1)\n",
    "        year, month, day = date.split(\"-\", 2)\n",
    "        hours, minute_seconds = time.split(\":\", 1)\n",
    "        \n",
    "        city_dataset[\"month\"][i] = int(month)\n",
    "        city_dataset[\"day\"][i] = int(day)\n",
    "        city_dataset[\"hour_of_day\"][i] = int(hours)\n",
    "\n",
    "    # drop datetime column\n",
    "    city_dataset = city_dataset.drop(\"datetime\", axis=1)\n",
    "        \n",
    "    # create new columns\n",
    "    # assign weather data for the city to columns\n",
    "    city_dataset[\"humidity\"] = humidity[city_name]\n",
    "    city_dataset[\"pressure\"] = pressure[city_name]\n",
    "    city_dataset[\"temperature\"] = temperature[city_name]\n",
    "    city_dataset[\"weather_description\"] = weather_description[city_name]\n",
    "    city_dataset[\"wind_direction\"] = wind_direction[city_name]\n",
    "    city_dataset[\"wind_speed\"] = wind_speed[city_name]\n",
    "    \n",
    "    return city_dataset"
   ]
  },
  {
   "cell_type": "code",
   "execution_count": 175,
   "metadata": {},
   "outputs": [],
   "source": [
    "new_york_weather = load_city_dataset(\"New York\")"
   ]
  },
  {
   "cell_type": "code",
   "execution_count": 176,
   "metadata": {},
   "outputs": [
    {
     "data": {
      "text/html": [
       "<div>\n",
       "<style scoped>\n",
       "    .dataframe tbody tr th:only-of-type {\n",
       "        vertical-align: middle;\n",
       "    }\n",
       "\n",
       "    .dataframe tbody tr th {\n",
       "        vertical-align: top;\n",
       "    }\n",
       "\n",
       "    .dataframe thead th {\n",
       "        text-align: right;\n",
       "    }\n",
       "</style>\n",
       "<table border=\"1\" class=\"dataframe\">\n",
       "  <thead>\n",
       "    <tr style=\"text-align: right;\">\n",
       "      <th></th>\n",
       "      <th>month</th>\n",
       "      <th>day</th>\n",
       "      <th>hour_of_day</th>\n",
       "      <th>humidity</th>\n",
       "      <th>pressure</th>\n",
       "      <th>temperature</th>\n",
       "      <th>weather_description</th>\n",
       "      <th>wind_direction</th>\n",
       "      <th>wind_speed</th>\n",
       "    </tr>\n",
       "  </thead>\n",
       "  <tbody>\n",
       "    <tr>\n",
       "      <th>0</th>\n",
       "      <td>10</td>\n",
       "      <td>1</td>\n",
       "      <td>12</td>\n",
       "      <td>NaN</td>\n",
       "      <td>NaN</td>\n",
       "      <td>NaN</td>\n",
       "      <td>NaN</td>\n",
       "      <td>NaN</td>\n",
       "      <td>NaN</td>\n",
       "    </tr>\n",
       "    <tr>\n",
       "      <th>1</th>\n",
       "      <td>10</td>\n",
       "      <td>1</td>\n",
       "      <td>13</td>\n",
       "      <td>58.0</td>\n",
       "      <td>1012.0</td>\n",
       "      <td>288.220000</td>\n",
       "      <td>few clouds</td>\n",
       "      <td>260.0</td>\n",
       "      <td>7.0</td>\n",
       "    </tr>\n",
       "    <tr>\n",
       "      <th>2</th>\n",
       "      <td>10</td>\n",
       "      <td>1</td>\n",
       "      <td>14</td>\n",
       "      <td>57.0</td>\n",
       "      <td>1012.0</td>\n",
       "      <td>288.247676</td>\n",
       "      <td>few clouds</td>\n",
       "      <td>260.0</td>\n",
       "      <td>7.0</td>\n",
       "    </tr>\n",
       "    <tr>\n",
       "      <th>3</th>\n",
       "      <td>10</td>\n",
       "      <td>1</td>\n",
       "      <td>15</td>\n",
       "      <td>57.0</td>\n",
       "      <td>1012.0</td>\n",
       "      <td>288.326940</td>\n",
       "      <td>few clouds</td>\n",
       "      <td>260.0</td>\n",
       "      <td>7.0</td>\n",
       "    </tr>\n",
       "    <tr>\n",
       "      <th>4</th>\n",
       "      <td>10</td>\n",
       "      <td>1</td>\n",
       "      <td>16</td>\n",
       "      <td>57.0</td>\n",
       "      <td>1012.0</td>\n",
       "      <td>288.406203</td>\n",
       "      <td>few clouds</td>\n",
       "      <td>260.0</td>\n",
       "      <td>7.0</td>\n",
       "    </tr>\n",
       "    <tr>\n",
       "      <th>...</th>\n",
       "      <td>...</td>\n",
       "      <td>...</td>\n",
       "      <td>...</td>\n",
       "      <td>...</td>\n",
       "      <td>...</td>\n",
       "      <td>...</td>\n",
       "      <td>...</td>\n",
       "      <td>...</td>\n",
       "      <td>...</td>\n",
       "    </tr>\n",
       "    <tr>\n",
       "      <th>45248</th>\n",
       "      <td>11</td>\n",
       "      <td>29</td>\n",
       "      <td>20</td>\n",
       "      <td>NaN</td>\n",
       "      <td>NaN</td>\n",
       "      <td>NaN</td>\n",
       "      <td>NaN</td>\n",
       "      <td>NaN</td>\n",
       "      <td>NaN</td>\n",
       "    </tr>\n",
       "    <tr>\n",
       "      <th>45249</th>\n",
       "      <td>11</td>\n",
       "      <td>29</td>\n",
       "      <td>21</td>\n",
       "      <td>NaN</td>\n",
       "      <td>NaN</td>\n",
       "      <td>NaN</td>\n",
       "      <td>NaN</td>\n",
       "      <td>NaN</td>\n",
       "      <td>NaN</td>\n",
       "    </tr>\n",
       "    <tr>\n",
       "      <th>45250</th>\n",
       "      <td>11</td>\n",
       "      <td>29</td>\n",
       "      <td>22</td>\n",
       "      <td>NaN</td>\n",
       "      <td>NaN</td>\n",
       "      <td>NaN</td>\n",
       "      <td>NaN</td>\n",
       "      <td>NaN</td>\n",
       "      <td>NaN</td>\n",
       "    </tr>\n",
       "    <tr>\n",
       "      <th>45251</th>\n",
       "      <td>11</td>\n",
       "      <td>29</td>\n",
       "      <td>23</td>\n",
       "      <td>NaN</td>\n",
       "      <td>NaN</td>\n",
       "      <td>NaN</td>\n",
       "      <td>NaN</td>\n",
       "      <td>NaN</td>\n",
       "      <td>NaN</td>\n",
       "    </tr>\n",
       "    <tr>\n",
       "      <th>45252</th>\n",
       "      <td>11</td>\n",
       "      <td>30</td>\n",
       "      <td>0</td>\n",
       "      <td>NaN</td>\n",
       "      <td>NaN</td>\n",
       "      <td>NaN</td>\n",
       "      <td>NaN</td>\n",
       "      <td>NaN</td>\n",
       "      <td>NaN</td>\n",
       "    </tr>\n",
       "  </tbody>\n",
       "</table>\n",
       "<p>45253 rows × 9 columns</p>\n",
       "</div>"
      ],
      "text/plain": [
       "      month day hour_of_day  humidity  pressure  temperature  \\\n",
       "0        10   1          12       NaN       NaN          NaN   \n",
       "1        10   1          13      58.0    1012.0   288.220000   \n",
       "2        10   1          14      57.0    1012.0   288.247676   \n",
       "3        10   1          15      57.0    1012.0   288.326940   \n",
       "4        10   1          16      57.0    1012.0   288.406203   \n",
       "...     ...  ..         ...       ...       ...          ...   \n",
       "45248    11  29          20       NaN       NaN          NaN   \n",
       "45249    11  29          21       NaN       NaN          NaN   \n",
       "45250    11  29          22       NaN       NaN          NaN   \n",
       "45251    11  29          23       NaN       NaN          NaN   \n",
       "45252    11  30           0       NaN       NaN          NaN   \n",
       "\n",
       "      weather_description  wind_direction  wind_speed  \n",
       "0                     NaN             NaN         NaN  \n",
       "1              few clouds           260.0         7.0  \n",
       "2              few clouds           260.0         7.0  \n",
       "3              few clouds           260.0         7.0  \n",
       "4              few clouds           260.0         7.0  \n",
       "...                   ...             ...         ...  \n",
       "45248                 NaN             NaN         NaN  \n",
       "45249                 NaN             NaN         NaN  \n",
       "45250                 NaN             NaN         NaN  \n",
       "45251                 NaN             NaN         NaN  \n",
       "45252                 NaN             NaN         NaN  \n",
       "\n",
       "[45253 rows x 9 columns]"
      ]
     },
     "execution_count": 176,
     "metadata": {},
     "output_type": "execute_result"
    }
   ],
   "source": [
    "new_york_weather"
   ]
  },
  {
   "cell_type": "markdown",
   "metadata": {},
   "source": [
    "<h3>Step 4: Clean the weather data</h3>"
   ]
  },
  {
   "cell_type": "code",
   "execution_count": 177,
   "metadata": {},
   "outputs": [],
   "source": [
    "def clean_weather_data (data, method):\n",
    "    \n",
    "    # replace NaN values with median of column\n",
    "    if method == \"median\" :\n",
    "        median_humidity = data[\"humidity\"].median()\n",
    "        data[\"humidity\"].fillna(median_humidity, inplace=True)\n",
    "        median_pressure = data[\"pressure\"].median()\n",
    "        data[\"pressure\"].fillna(median_pressure, inplace=True)\n",
    "        median_temperature = data[\"temperature\"].median()\n",
    "        data[\"temperature\"].fillna(median_temperature, inplace=True)\n",
    "        median_wind_direction = data[\"wind_direction\"].median()\n",
    "        data[\"wind_direction\"].fillna(median_wind_direction, inplace=True)\n",
    "        median_wind_speed = data[\"wind_speed\"].median()\n",
    "        data[\"wind_speed\"].fillna(median_wind_speed, inplace=True)\n",
    "        \n",
    "    # replace NaN values with mean of column\n",
    "    if method == \"mean\" :\n",
    "        mean_humidity = data[\"humidity\"].mean()\n",
    "        data[\"humidity\"].fillna(mean_humidity, inplace=True)\n",
    "        mean_pressure = data[\"pressure\"].mean()\n",
    "        data[\"pressure\"].fillna(mean_pressure, inplace=True)\n",
    "        mean_temperature = data[\"temperature\"].mean()\n",
    "        data[\"temperature\"].fillna(mean_temperature, inplace=True)\n",
    "        mean_wind_direction = data[\"wind_direction\"].mean()\n",
    "        data[\"wind_direction\"].fillna(mean_wind_direction, inplace=True)\n",
    "        mean_wind_speed = data[\"wind_speed\"].mean()\n",
    "        data[\"wind_speed\"].fillna(mean_wind_speed, inplace=True)\n",
    "    \n",
    "    # drop rows with NaN value(s)\n",
    "    if method == \"drop\" :\n",
    "        data = data.dropna()\n",
    "        \n",
    "    return data"
   ]
  },
  {
   "cell_type": "code",
   "execution_count": 198,
   "metadata": {},
   "outputs": [],
   "source": [
    "clean_ny_weather = clean_weather_data(new_york_weather, method=\"drop\")"
   ]
  },
  {
   "cell_type": "code",
   "execution_count": 199,
   "metadata": {},
   "outputs": [
    {
     "data": {
      "text/html": [
       "<div>\n",
       "<style scoped>\n",
       "    .dataframe tbody tr th:only-of-type {\n",
       "        vertical-align: middle;\n",
       "    }\n",
       "\n",
       "    .dataframe tbody tr th {\n",
       "        vertical-align: top;\n",
       "    }\n",
       "\n",
       "    .dataframe thead th {\n",
       "        text-align: right;\n",
       "    }\n",
       "</style>\n",
       "<table border=\"1\" class=\"dataframe\">\n",
       "  <thead>\n",
       "    <tr style=\"text-align: right;\">\n",
       "      <th></th>\n",
       "      <th>month</th>\n",
       "      <th>day</th>\n",
       "      <th>hour_of_day</th>\n",
       "      <th>humidity</th>\n",
       "      <th>pressure</th>\n",
       "      <th>temperature</th>\n",
       "      <th>weather_description</th>\n",
       "      <th>wind_direction</th>\n",
       "      <th>wind_speed</th>\n",
       "    </tr>\n",
       "  </thead>\n",
       "  <tbody>\n",
       "    <tr>\n",
       "      <th>1</th>\n",
       "      <td>10</td>\n",
       "      <td>1</td>\n",
       "      <td>13</td>\n",
       "      <td>58.0</td>\n",
       "      <td>1012.0</td>\n",
       "      <td>288.220000</td>\n",
       "      <td>few clouds</td>\n",
       "      <td>260.0</td>\n",
       "      <td>7.0</td>\n",
       "    </tr>\n",
       "    <tr>\n",
       "      <th>2</th>\n",
       "      <td>10</td>\n",
       "      <td>1</td>\n",
       "      <td>14</td>\n",
       "      <td>57.0</td>\n",
       "      <td>1012.0</td>\n",
       "      <td>288.247676</td>\n",
       "      <td>few clouds</td>\n",
       "      <td>260.0</td>\n",
       "      <td>7.0</td>\n",
       "    </tr>\n",
       "    <tr>\n",
       "      <th>3</th>\n",
       "      <td>10</td>\n",
       "      <td>1</td>\n",
       "      <td>15</td>\n",
       "      <td>57.0</td>\n",
       "      <td>1012.0</td>\n",
       "      <td>288.326940</td>\n",
       "      <td>few clouds</td>\n",
       "      <td>260.0</td>\n",
       "      <td>7.0</td>\n",
       "    </tr>\n",
       "    <tr>\n",
       "      <th>4</th>\n",
       "      <td>10</td>\n",
       "      <td>1</td>\n",
       "      <td>16</td>\n",
       "      <td>57.0</td>\n",
       "      <td>1012.0</td>\n",
       "      <td>288.406203</td>\n",
       "      <td>few clouds</td>\n",
       "      <td>260.0</td>\n",
       "      <td>7.0</td>\n",
       "    </tr>\n",
       "    <tr>\n",
       "      <th>5</th>\n",
       "      <td>10</td>\n",
       "      <td>1</td>\n",
       "      <td>17</td>\n",
       "      <td>57.0</td>\n",
       "      <td>1012.0</td>\n",
       "      <td>288.485467</td>\n",
       "      <td>few clouds</td>\n",
       "      <td>261.0</td>\n",
       "      <td>6.0</td>\n",
       "    </tr>\n",
       "    <tr>\n",
       "      <th>...</th>\n",
       "      <td>...</td>\n",
       "      <td>...</td>\n",
       "      <td>...</td>\n",
       "      <td>...</td>\n",
       "      <td>...</td>\n",
       "      <td>...</td>\n",
       "      <td>...</td>\n",
       "      <td>...</td>\n",
       "      <td>...</td>\n",
       "    </tr>\n",
       "    <tr>\n",
       "      <th>44456</th>\n",
       "      <td>10</td>\n",
       "      <td>27</td>\n",
       "      <td>20</td>\n",
       "      <td>36.0</td>\n",
       "      <td>1019.0</td>\n",
       "      <td>289.980000</td>\n",
       "      <td>sky is clear</td>\n",
       "      <td>0.0</td>\n",
       "      <td>3.0</td>\n",
       "    </tr>\n",
       "    <tr>\n",
       "      <th>44457</th>\n",
       "      <td>10</td>\n",
       "      <td>27</td>\n",
       "      <td>21</td>\n",
       "      <td>38.0</td>\n",
       "      <td>1019.0</td>\n",
       "      <td>289.480000</td>\n",
       "      <td>sky is clear</td>\n",
       "      <td>0.0</td>\n",
       "      <td>1.0</td>\n",
       "    </tr>\n",
       "    <tr>\n",
       "      <th>44458</th>\n",
       "      <td>10</td>\n",
       "      <td>27</td>\n",
       "      <td>22</td>\n",
       "      <td>54.0</td>\n",
       "      <td>1019.0</td>\n",
       "      <td>287.920000</td>\n",
       "      <td>sky is clear</td>\n",
       "      <td>196.0</td>\n",
       "      <td>2.0</td>\n",
       "    </tr>\n",
       "    <tr>\n",
       "      <th>44459</th>\n",
       "      <td>10</td>\n",
       "      <td>27</td>\n",
       "      <td>23</td>\n",
       "      <td>62.0</td>\n",
       "      <td>1020.0</td>\n",
       "      <td>285.830000</td>\n",
       "      <td>sky is clear</td>\n",
       "      <td>171.0</td>\n",
       "      <td>3.0</td>\n",
       "    </tr>\n",
       "    <tr>\n",
       "      <th>44460</th>\n",
       "      <td>10</td>\n",
       "      <td>28</td>\n",
       "      <td>0</td>\n",
       "      <td>58.0</td>\n",
       "      <td>1020.0</td>\n",
       "      <td>284.980000</td>\n",
       "      <td>sky is clear</td>\n",
       "      <td>0.0</td>\n",
       "      <td>2.0</td>\n",
       "    </tr>\n",
       "  </tbody>\n",
       "</table>\n",
       "<p>43609 rows × 9 columns</p>\n",
       "</div>"
      ],
      "text/plain": [
       "      month day hour_of_day  humidity  pressure  temperature  \\\n",
       "1        10   1          13      58.0    1012.0   288.220000   \n",
       "2        10   1          14      57.0    1012.0   288.247676   \n",
       "3        10   1          15      57.0    1012.0   288.326940   \n",
       "4        10   1          16      57.0    1012.0   288.406203   \n",
       "5        10   1          17      57.0    1012.0   288.485467   \n",
       "...     ...  ..         ...       ...       ...          ...   \n",
       "44456    10  27          20      36.0    1019.0   289.980000   \n",
       "44457    10  27          21      38.0    1019.0   289.480000   \n",
       "44458    10  27          22      54.0    1019.0   287.920000   \n",
       "44459    10  27          23      62.0    1020.0   285.830000   \n",
       "44460    10  28           0      58.0    1020.0   284.980000   \n",
       "\n",
       "      weather_description  wind_direction  wind_speed  \n",
       "1              few clouds           260.0         7.0  \n",
       "2              few clouds           260.0         7.0  \n",
       "3              few clouds           260.0         7.0  \n",
       "4              few clouds           260.0         7.0  \n",
       "5              few clouds           261.0         6.0  \n",
       "...                   ...             ...         ...  \n",
       "44456        sky is clear             0.0         3.0  \n",
       "44457        sky is clear             0.0         1.0  \n",
       "44458        sky is clear           196.0         2.0  \n",
       "44459        sky is clear           171.0         3.0  \n",
       "44460        sky is clear             0.0         2.0  \n",
       "\n",
       "[43609 rows x 9 columns]"
      ]
     },
     "execution_count": 199,
     "metadata": {},
     "output_type": "execute_result"
    }
   ],
   "source": [
    "clean_ny_weather"
   ]
  },
  {
   "cell_type": "markdown",
   "metadata": {},
   "source": [
    "<h3>Step 5: Split the data into a training and testing set</h3>"
   ]
  },
  {
   "cell_type": "code",
   "execution_count": 241,
   "metadata": {},
   "outputs": [],
   "source": [
    "from sklearn.model_selection import train_test_split\n",
    "\n",
    "training_set, testing_set = train_test_split(clean_ny_weather, test_size=0.2, random_state=21)"
   ]
  },
  {
   "cell_type": "code",
   "execution_count": 242,
   "metadata": {},
   "outputs": [],
   "source": [
    "weather_description = training_set[[\"weather_description\"]]\n",
    "train_labels = training_set[\"temperature\"]\n",
    "training_set = training_set.drop(\"temperature\", axis=1)"
   ]
  },
  {
   "cell_type": "markdown",
   "metadata": {},
   "source": [
    "<h3>Step 6: Quantify the weather_description column</h3>"
   ]
  },
  {
   "cell_type": "code",
   "execution_count": 243,
   "metadata": {},
   "outputs": [
    {
     "data": {
      "text/plain": [
       "array([[0., 0., 0., ..., 0., 0., 0.],\n",
       "       [0., 0., 0., ..., 0., 0., 0.],\n",
       "       [0., 0., 0., ..., 0., 0., 0.],\n",
       "       ...,\n",
       "       [1., 0., 0., ..., 0., 0., 0.],\n",
       "       [0., 0., 0., ..., 0., 0., 0.],\n",
       "       [0., 0., 0., ..., 0., 0., 0.]])"
      ]
     },
     "execution_count": 243,
     "metadata": {},
     "output_type": "execute_result"
    }
   ],
   "source": [
    "from sklearn.preprocessing import OneHotEncoder\n",
    "\n",
    "encoder = OneHotEncoder()\n",
    "encoded_desc = encoder.fit_transform(weather_description)\n",
    "encoded_desc.toarray()"
   ]
  },
  {
   "cell_type": "code",
   "execution_count": 244,
   "metadata": {},
   "outputs": [
    {
     "data": {
      "text/plain": [
       "[array(['broken clouds', 'drizzle', 'dust', 'few clouds', 'fog',\n",
       "        'freezing rain', 'haze', 'heavy intensity drizzle',\n",
       "        'heavy intensity rain', 'heavy snow', 'heavy thunderstorm',\n",
       "        'light intensity drizzle', 'light rain', 'light rain and snow',\n",
       "        'light snow', 'mist', 'moderate rain', 'overcast clouds',\n",
       "        'proximity thunderstorm', 'proximity thunderstorm with drizzle',\n",
       "        'proximity thunderstorm with rain', 'sand', 'scattered clouds',\n",
       "        'shower rain', 'sky is clear', 'smoke', 'snow', 'squalls',\n",
       "        'thunderstorm', 'thunderstorm with heavy rain',\n",
       "        'thunderstorm with light drizzle', 'thunderstorm with light rain',\n",
       "        'thunderstorm with rain', 'very heavy rain'], dtype=object)]"
      ]
     },
     "execution_count": 244,
     "metadata": {},
     "output_type": "execute_result"
    }
   ],
   "source": [
    "encoder.categories_"
   ]
  },
  {
   "cell_type": "markdown",
   "metadata": {},
   "source": [
    "<h3>Step 7: Pipelines and feature scaling</h3>"
   ]
  },
  {
   "cell_type": "code",
   "execution_count": 245,
   "metadata": {},
   "outputs": [],
   "source": [
    "from sklearn.pipeline import Pipeline\n",
    "from sklearn.preprocessing import StandardScaler\n",
    "\n",
    "numbers_pipe = Pipeline([\n",
    "     ('std_scaler', StandardScaler()),\n",
    "])\n",
    "\n",
    "train_num = training_set.drop(\"weather_description\", axis=1)\n",
    "weather_numbers_scaled = numbers_pipe.fit_transform(train_num)"
   ]
  },
  {
   "cell_type": "code",
   "execution_count": 246,
   "metadata": {},
   "outputs": [
    {
     "data": {
      "text/plain": [
       "array([[ 0.6972499 , -1.10570426,  1.66113432, ..., -3.14123339,\n",
       "         0.52864113, -1.48087155],\n",
       "       [-0.1744145 , -1.56226907,  1.51660807, ..., -0.10204833,\n",
       "        -0.43122758, -0.56040251],\n",
       "       [ 0.9878047 , -1.21984546, -0.94033826, ..., -0.10204833,\n",
       "        -1.36313896,  1.28053557],\n",
       "       ...,\n",
       "       [ 0.1161403 , -1.33398666,  0.64945054, ...,  0.58421926,\n",
       "         0.22111038,  0.82030105],\n",
       "       [-0.1744145 , -0.87742185,  1.51660807, ..., -1.18046884,\n",
       "        -1.27926693, -0.56040251],\n",
       "       [ 0.4066951 , -1.21984546,  0.79397679, ..., -0.10204833,\n",
       "         0.96663948, -1.02063703]])"
      ]
     },
     "execution_count": 246,
     "metadata": {},
     "output_type": "execute_result"
    }
   ],
   "source": [
    "weather_numbers_scaled"
   ]
  },
  {
   "cell_type": "code",
   "execution_count": 247,
   "metadata": {},
   "outputs": [],
   "source": [
    "from sklearn.compose import ColumnTransformer\n",
    "\n",
    "num_attribs = list(train_num)\n",
    "cat_attribs = [\"weather_description\"]\n",
    "\n",
    "full_pipeline = ColumnTransformer([\n",
    "    (\"num\", numbers_pipe, num_attribs),\n",
    "    (\"cat\", OneHotEncoder(), cat_attribs),\n",
    "])\n",
    "\n",
    "ny_weather_prepared = full_pipeline.fit_transform(training_set)"
   ]
  },
  {
   "cell_type": "code",
   "execution_count": 248,
   "metadata": {},
   "outputs": [
    {
     "data": {
      "text/plain": [
       "<34887x41 sparse matrix of type '<class 'numpy.float64'>'\n",
       "\twith 279096 stored elements in Compressed Sparse Row format>"
      ]
     },
     "execution_count": 248,
     "metadata": {},
     "output_type": "execute_result"
    }
   ],
   "source": [
    "ny_weather_prepared"
   ]
  },
  {
   "cell_type": "code",
   "execution_count": 249,
   "metadata": {},
   "outputs": [
    {
     "data": {
      "text/plain": [
       "LinearRegression(copy_X=True, fit_intercept=True, n_jobs=None, normalize=False)"
      ]
     },
     "execution_count": 249,
     "metadata": {},
     "output_type": "execute_result"
    }
   ],
   "source": [
    "from sklearn.linear_model import LinearRegression\n",
    "\n",
    "lin_reg = LinearRegression()\n",
    "lin_reg.fit(ny_weather_prepared, train_labels)"
   ]
  },
  {
   "cell_type": "code",
   "execution_count": 250,
   "metadata": {},
   "outputs": [],
   "source": [
    "some_data = training_set.iloc[:5]\n",
    "some_labels = train_labels.iloc[:5]\n",
    "some_data_prepared = full_pipeline.transform(some_data)"
   ]
  },
  {
   "cell_type": "code",
   "execution_count": 252,
   "metadata": {},
   "outputs": [
    {
     "data": {
      "text/plain": [
       "array([299.92600167, 288.67132277, 283.264101  , 276.79107806,\n",
       "       291.69258759])"
      ]
     },
     "execution_count": 252,
     "metadata": {},
     "output_type": "execute_result"
    }
   ],
   "source": [
    "lin_reg.predict(some_data_prepared)"
   ]
  },
  {
   "cell_type": "code",
   "execution_count": 253,
   "metadata": {},
   "outputs": [
    {
     "data": {
      "text/plain": [
       "8171     292.35\n",
       "14626    300.16\n",
       "8849     292.51\n",
       "3473     269.07\n",
       "41020    286.15\n",
       "Name: temperature, dtype: float64"
      ]
     },
     "execution_count": 253,
     "metadata": {},
     "output_type": "execute_result"
    }
   ],
   "source": [
    "some_labels"
   ]
  },
  {
   "cell_type": "code",
   "execution_count": 254,
   "metadata": {},
   "outputs": [
    {
     "data": {
      "text/plain": [
       "8.837682211966962"
      ]
     },
     "execution_count": 254,
     "metadata": {},
     "output_type": "execute_result"
    }
   ],
   "source": [
    "from sklearn.metrics import mean_squared_error\n",
    "\n",
    "weather_predictions = lin_reg.predict(ny_weather_prepared)\n",
    "lin_mse = mean_squared_error(train_labels, weather_predictions)\n",
    "lin_rmse = np.sqrt(lin_mse)\n",
    "lin_rmse"
   ]
  },
  {
   "cell_type": "code",
   "execution_count": 255,
   "metadata": {},
   "outputs": [
    {
     "data": {
      "text/plain": [
       "DecisionTreeRegressor(ccp_alpha=0.0, criterion='mse', max_depth=None,\n",
       "                      max_features=None, max_leaf_nodes=None,\n",
       "                      min_impurity_decrease=0.0, min_impurity_split=None,\n",
       "                      min_samples_leaf=1, min_samples_split=2,\n",
       "                      min_weight_fraction_leaf=0.0, presort='deprecated',\n",
       "                      random_state=None, splitter='best')"
      ]
     },
     "execution_count": 255,
     "metadata": {},
     "output_type": "execute_result"
    }
   ],
   "source": [
    "from sklearn.tree import DecisionTreeRegressor\n",
    "\n",
    "tree_reg = DecisionTreeRegressor()\n",
    "tree_reg.fit(ny_weather_prepared, train_labels)"
   ]
  },
  {
   "cell_type": "code",
   "execution_count": 257,
   "metadata": {},
   "outputs": [
    {
     "data": {
      "text/plain": [
       "6.330921323624101e-15"
      ]
     },
     "execution_count": 257,
     "metadata": {},
     "output_type": "execute_result"
    }
   ],
   "source": [
    "weather_predictions = tree_reg.predict(ny_weather_prepared)\n",
    "tree_mse = mean_squared_error(train_labels, weather_predictions)\n",
    "tree_rmse = np.sqrt(tree_mse)\n",
    "tree_rmse"
   ]
  },
  {
   "cell_type": "markdown",
   "metadata": {},
   "source": [
    "<h3>Better evaluations using cross validation</h3>"
   ]
  },
  {
   "cell_type": "code",
   "execution_count": 258,
   "metadata": {},
   "outputs": [],
   "source": [
    "from sklearn.model_selection import cross_val_score\n",
    "\n",
    "scores = cross_val_score(tree_reg, ny_weather_prepared, train_labels,\n",
    "                        scoring=\"neg_mean_squared_error\", cv=10)\n",
    "tree_rmse_scores = np.sqrt(-scores)"
   ]
  },
  {
   "cell_type": "code",
   "execution_count": 259,
   "metadata": {},
   "outputs": [
    {
     "name": "stdout",
     "output_type": "stream",
     "text": [
      "Scores: [3.7239201  3.65996003 3.41341984 3.37626647 3.54786102 3.55730331\n",
      " 3.30189188 3.49970814 3.49508355 3.47565707]\n",
      "Mean: 3.505107139626083\n",
      "Standard deviation: 0.119879402232171\n"
     ]
    }
   ],
   "source": [
    "def display_scores(scores):\n",
    "    print(\"Scores:\", scores)\n",
    "    print(\"Mean:\", scores.mean())\n",
    "    print(\"Standard deviation:\", scores.std())\n",
    "    \n",
    "display_scores(tree_rmse_scores)"
   ]
  },
  {
   "cell_type": "code",
   "execution_count": 261,
   "metadata": {},
   "outputs": [],
   "source": [
    "lin_scores = cross_val_score(lin_reg, ny_weather_prepared, train_labels,\n",
    "                        scoring=\"neg_mean_squared_error\", cv=10)\n",
    "lin_rmse_scores = np.sqrt(-lin_scores)"
   ]
  },
  {
   "cell_type": "code",
   "execution_count": 262,
   "metadata": {},
   "outputs": [
    {
     "name": "stdout",
     "output_type": "stream",
     "text": [
      "Scores: [8.82102154 9.02742041 8.76685186 8.85538158 8.89902648 8.8747015\n",
      " 8.72528126 8.81591809 8.87457479 8.78613381]\n",
      "Mean: 8.844631133538273\n",
      "Standard deviation: 0.07961468989744755\n"
     ]
    }
   ],
   "source": [
    "display_scores(lin_rmse_scores)"
   ]
  },
  {
   "cell_type": "markdown",
   "metadata": {},
   "source": [
    "<h3>Random forest performance</h3>"
   ]
  },
  {
   "cell_type": "code",
   "execution_count": 263,
   "metadata": {},
   "outputs": [
    {
     "data": {
      "text/plain": [
       "RandomForestRegressor(bootstrap=True, ccp_alpha=0.0, criterion='mse',\n",
       "                      max_depth=None, max_features='auto', max_leaf_nodes=None,\n",
       "                      max_samples=None, min_impurity_decrease=0.0,\n",
       "                      min_impurity_split=None, min_samples_leaf=1,\n",
       "                      min_samples_split=2, min_weight_fraction_leaf=0.0,\n",
       "                      n_estimators=100, n_jobs=None, oob_score=False,\n",
       "                      random_state=None, verbose=0, warm_start=False)"
      ]
     },
     "execution_count": 263,
     "metadata": {},
     "output_type": "execute_result"
    }
   ],
   "source": [
    "from sklearn.ensemble import RandomForestRegressor\n",
    "\n",
    "forest_reg = RandomForestRegressor()\n",
    "forest_reg.fit(ny_weather_prepared, train_labels)"
   ]
  },
  {
   "cell_type": "code",
   "execution_count": 265,
   "metadata": {},
   "outputs": [],
   "source": [
    "forest_scores = cross_val_score(forest_reg, ny_weather_prepared, train_labels,\n",
    "                               scoring=\"neg_mean_squared_error\", cv=10)\n",
    "forest_rmse_scores = np.sqrt(-forest_scores)"
   ]
  },
  {
   "cell_type": "code",
   "execution_count": 266,
   "metadata": {},
   "outputs": [
    {
     "name": "stdout",
     "output_type": "stream",
     "text": [
      "Scores: [2.4196389  2.52560749 2.34236737 2.36038309 2.46753083 2.39358889\n",
      " 2.31698651 2.34834691 2.45631114 2.42046782]\n",
      "Mean: 2.405122894518355\n",
      "Standard deviation: 0.06208234816228608\n"
     ]
    }
   ],
   "source": [
    "display_scores(forest_rmse_scores)"
   ]
  },
  {
   "cell_type": "markdown",
   "metadata": {},
   "source": [
    "<h3>Random forest is performing the best so far so lets fine tune the model</h3>"
   ]
  },
  {
   "cell_type": "code",
   "execution_count": 284,
   "metadata": {},
   "outputs": [
    {
     "data": {
      "text/plain": [
       "GridSearchCV(cv=5, error_score=nan,\n",
       "             estimator=RandomForestRegressor(bootstrap=True, ccp_alpha=0.0,\n",
       "                                             criterion='mse', max_depth=None,\n",
       "                                             max_features='auto',\n",
       "                                             max_leaf_nodes=None,\n",
       "                                             max_samples=None,\n",
       "                                             min_impurity_decrease=0.0,\n",
       "                                             min_impurity_split=None,\n",
       "                                             min_samples_leaf=1,\n",
       "                                             min_samples_split=2,\n",
       "                                             min_weight_fraction_leaf=0.0,\n",
       "                                             n_estimators=100, n_jobs=None,\n",
       "                                             oob_score=False, random_state=None,\n",
       "                                             verbose=0, warm_start=False),\n",
       "             iid='deprecated', n_jobs=None,\n",
       "             param_grid=[{'bootstrap': [False, True], 'max_features': [14, 20],\n",
       "                          'n_estimators': [300]}],\n",
       "             pre_dispatch='2*n_jobs', refit=True, return_train_score=True,\n",
       "             scoring='neg_mean_squared_error', verbose=0)"
      ]
     },
     "execution_count": 284,
     "metadata": {},
     "output_type": "execute_result"
    }
   ],
   "source": [
    "from sklearn.model_selection import GridSearchCV\n",
    "\n",
    "param_grid = [\n",
    "    {'n_estimators': [300], 'max_features': [14, 20], 'bootstrap': [False, True]}\n",
    "]\n",
    "\n",
    "forest_reg = RandomForestRegressor()\n",
    "\n",
    "grid_search = GridSearchCV(forest_reg, param_grid, cv=5,\n",
    "                          scoring='neg_mean_squared_error',\n",
    "                          return_train_score=True)\n",
    "\n",
    "grid_search.fit(ny_weather_prepared, train_labels)"
   ]
  },
  {
   "cell_type": "code",
   "execution_count": 285,
   "metadata": {},
   "outputs": [
    {
     "data": {
      "text/plain": [
       "{'bootstrap': False, 'max_features': 20, 'n_estimators': 300}"
      ]
     },
     "execution_count": 285,
     "metadata": {},
     "output_type": "execute_result"
    }
   ],
   "source": [
    "grid_search.best_params_"
   ]
  },
  {
   "cell_type": "code",
   "execution_count": 286,
   "metadata": {},
   "outputs": [
    {
     "data": {
      "text/plain": [
       "array([6.69353195e-01, 5.21635584e-02, 5.72215468e-02, 4.01011191e-02,\n",
       "       8.13465277e-02, 5.26358868e-02, 2.11429550e-02, 2.34875675e-03,\n",
       "       1.41006316e-04, 1.78082556e-05, 1.83871072e-03, 9.67359327e-04,\n",
       "       1.31840333e-05, 4.99843206e-04, 6.46699566e-06, 2.28533176e-04,\n",
       "       2.25770766e-04, 6.88245252e-07, 2.29691690e-04, 2.28609545e-03,\n",
       "       7.36247710e-06, 1.45339638e-03, 2.45058622e-03, 6.17977638e-04,\n",
       "       2.41499341e-03, 8.92112141e-05, 2.31432183e-07, 1.33290913e-07,\n",
       "       5.21806839e-07, 1.74146494e-03, 4.14008089e-07, 8.05250803e-03,\n",
       "       5.92828852e-06, 2.22290375e-04, 1.99182107e-05, 6.17202192e-05,\n",
       "       3.05520104e-06, 3.49104537e-07, 2.09700280e-05, 3.57274571e-06,\n",
       "       6.46914505e-05])"
      ]
     },
     "execution_count": 286,
     "metadata": {},
     "output_type": "execute_result"
    }
   ],
   "source": [
    "feature_importances = grid_search.best_estimator_.feature_importances_\n",
    "feature_importances"
   ]
  },
  {
   "cell_type": "code",
   "execution_count": 287,
   "metadata": {},
   "outputs": [
    {
     "data": {
      "text/plain": [
       "[(0.6693531947717006, 'month'),\n",
       " (0.08134652773500912, 'pressure'),\n",
       " (0.057221546794184015, 'hour_of_day'),\n",
       " (0.052635886809405445, 'wind_direction'),\n",
       " (0.05216355840582447, 'day'),\n",
       " (0.04010111905360113, 'humidity'),\n",
       " (0.021142955039363105, 'wind_speed'),\n",
       " (0.0080525080279215, 'sky is clear'),\n",
       " (0.0024505862211561744, 'mist'),\n",
       " (0.0024149934071131325, 'overcast clouds'),\n",
       " (0.0023487567450449047, 'broken clouds'),\n",
       " (0.002286095445860381, 'light rain'),\n",
       " (0.001838710718388625, 'few clouds'),\n",
       " (0.0017414649405073708, 'scattered clouds'),\n",
       " (0.0014533963838589356, 'light snow'),\n",
       " (0.0009673593268625471, 'fog'),\n",
       " (0.0006179776380399563, 'moderate rain'),\n",
       " (0.0004998432063751955, 'haze'),\n",
       " (0.00022969168993240027, 'light intensity drizzle'),\n",
       " (0.0002285331763480856, 'heavy intensity rain'),\n",
       " (0.00022577076582211896, 'heavy snow'),\n",
       " (0.00022229037489179557, 'snow'),\n",
       " (0.00014100631562554902, 'drizzle'),\n",
       " (8.921121406820866e-05, 'proximity thunderstorm'),\n",
       " (6.469145050474444e-05, 'very heavy rain'),\n",
       " (6.172021916509064e-05, 'thunderstorm'),\n",
       " (2.097002796421062e-05, 'thunderstorm with light rain'),\n",
       " (1.9918210736416993e-05, 'squalls'),\n",
       " (1.7808255612908057e-05, 'dust'),\n",
       " (1.3184033269322033e-05, 'freezing rain'),\n",
       " (7.362477098885016e-06, 'light rain and snow'),\n",
       " (6.46699565882657e-06, 'heavy intensity drizzle'),\n",
       " (5.928288523743705e-06, 'smoke'),\n",
       " (3.572745711214856e-06, 'thunderstorm with rain'),\n",
       " (3.0552010368108663e-06, 'thunderstorm with heavy rain'),\n",
       " (6.882452516731891e-07, 'heavy thunderstorm'),\n",
       " (5.218068389568338e-07, 'sand'),\n",
       " (4.1400808871490977e-07, 'shower rain'),\n",
       " (3.491045373655823e-07, 'thunderstorm with light drizzle'),\n",
       " (2.314321829999604e-07, 'proximity thunderstorm with drizzle'),\n",
       " (1.332909133620677e-07, 'proximity thunderstorm with rain')]"
      ]
     },
     "execution_count": 287,
     "metadata": {},
     "output_type": "execute_result"
    }
   ],
   "source": [
    "cat_encoder = full_pipeline.named_transformers_[\"cat\"]\n",
    "cat_one_hot_attribs = list(cat_encoder.categories_[0])\n",
    "attributes = num_attribs + cat_one_hot_attribs\n",
    "sorted(zip(feature_importances, attributes), reverse=True)"
   ]
  },
  {
   "cell_type": "code",
   "execution_count": 288,
   "metadata": {},
   "outputs": [],
   "source": [
    "best_estimator = grid_search.best_estimator_\n",
    "best_estimator_score = cross_val_score(best_estimator, ny_weather_prepared, train_labels,\n",
    "                               scoring=\"neg_mean_squared_error\", cv=10)\n",
    "estimator_rmse_scores = np.sqrt(-best_estimator_score)"
   ]
  },
  {
   "cell_type": "markdown",
   "metadata": {},
   "source": [
    "<h3>2.57 mean with n_estimators = 300 and max_features = 14"
   ]
  },
  {
   "cell_type": "code",
   "execution_count": 289,
   "metadata": {},
   "outputs": [
    {
     "name": "stdout",
     "output_type": "stream",
     "text": [
      "Scores: [2.23782546 2.36477991 2.18810495 2.22024928 2.28750892 2.22907451\n",
      " 2.13492649 2.18787592 2.27974643 2.26695363]\n",
      "Mean: 2.239704550800286\n",
      "Standard deviation: 0.06090744629135487\n"
     ]
    }
   ],
   "source": [
    "display_scores(estimator_rmse_scores)"
   ]
  },
  {
   "cell_type": "code",
   "execution_count": null,
   "metadata": {},
   "outputs": [],
   "source": []
  }
 ],
 "metadata": {
  "kernelspec": {
   "display_name": "Python 3",
   "language": "python",
   "name": "python3"
  },
  "language_info": {
   "codemirror_mode": {
    "name": "ipython",
    "version": 3
   },
   "file_extension": ".py",
   "mimetype": "text/x-python",
   "name": "python",
   "nbconvert_exporter": "python",
   "pygments_lexer": "ipython3",
   "version": "3.7.4"
  }
 },
 "nbformat": 4,
 "nbformat_minor": 2
}
