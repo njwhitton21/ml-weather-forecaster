{
 "cells": [
  {
   "cell_type": "markdown",
   "metadata": {},
   "source": [
    "<h1>Step 1: Get the datasets </h1>"
   ]
  },
  {
   "cell_type": "code",
   "execution_count": 36,
   "metadata": {
    "scrolled": true
   },
   "outputs": [],
   "source": [
    "import pandas as pd\n",
    "import numpy as np\n",
    "\n",
    "\n",
    "def load_weather_data(csv_file):\n",
    "    city_attrib_csv_path = \"datasets/\" + csv_file\n",
    "    return pd.read_csv(city_attrib_csv_path)"
   ]
  },
  {
   "cell_type": "code",
   "execution_count": 37,
   "metadata": {
    "scrolled": true
   },
   "outputs": [
    {
     "data": {
      "text/plain": [
       "True"
      ]
     },
     "execution_count": 37,
     "metadata": {},
     "output_type": "execute_result"
    }
   ],
   "source": [
    "import tensorflow as tf\n",
    "\n",
    "tf.test.is_built_with_cuda()\n",
    "tf.test.is_gpu_available(cuda_only=False, min_cuda_compute_capability=None)"
   ]
  },
  {
   "cell_type": "code",
   "execution_count": 38,
   "metadata": {},
   "outputs": [],
   "source": [
    "weather_data_with_labels = load_weather_data(\"weather_data_with_labels.csv\")"
   ]
  },
  {
   "cell_type": "code",
   "execution_count": 39,
   "metadata": {},
   "outputs": [
    {
     "data": {
      "text/html": [
       "<div>\n",
       "<style scoped>\n",
       "    .dataframe tbody tr th:only-of-type {\n",
       "        vertical-align: middle;\n",
       "    }\n",
       "\n",
       "    .dataframe tbody tr th {\n",
       "        vertical-align: top;\n",
       "    }\n",
       "\n",
       "    .dataframe thead th {\n",
       "        text-align: right;\n",
       "    }\n",
       "</style>\n",
       "<table border=\"1\" class=\"dataframe\">\n",
       "  <thead>\n",
       "    <tr style=\"text-align: right;\">\n",
       "      <th></th>\n",
       "      <th>month</th>\n",
       "      <th>day</th>\n",
       "      <th>hour_of_day</th>\n",
       "      <th>latitude</th>\n",
       "      <th>longitude</th>\n",
       "      <th>humidity</th>\n",
       "      <th>pressure</th>\n",
       "      <th>temperature</th>\n",
       "      <th>weather_description</th>\n",
       "      <th>wind_direction</th>\n",
       "      <th>wind_speed</th>\n",
       "      <th>humidity_labels</th>\n",
       "      <th>pressure_labels</th>\n",
       "      <th>temperature_labels</th>\n",
       "      <th>description_labels</th>\n",
       "      <th>wind_direction_labels</th>\n",
       "      <th>wind_speed_labels</th>\n",
       "    </tr>\n",
       "  </thead>\n",
       "  <tbody>\n",
       "    <tr>\n",
       "      <th>0</th>\n",
       "      <td>10</td>\n",
       "      <td>1</td>\n",
       "      <td>12</td>\n",
       "      <td>49.249660</td>\n",
       "      <td>-123.119339</td>\n",
       "      <td>NaN</td>\n",
       "      <td>NaN</td>\n",
       "      <td>NaN</td>\n",
       "      <td>NaN</td>\n",
       "      <td>NaN</td>\n",
       "      <td>NaN</td>\n",
       "      <td>76.0</td>\n",
       "      <td>NaN</td>\n",
       "      <td>284.630000</td>\n",
       "      <td>mist</td>\n",
       "      <td>0.0</td>\n",
       "      <td>0.0</td>\n",
       "    </tr>\n",
       "    <tr>\n",
       "      <th>1</th>\n",
       "      <td>10</td>\n",
       "      <td>1</td>\n",
       "      <td>13</td>\n",
       "      <td>49.249660</td>\n",
       "      <td>-123.119339</td>\n",
       "      <td>76.0</td>\n",
       "      <td>NaN</td>\n",
       "      <td>284.630000</td>\n",
       "      <td>mist</td>\n",
       "      <td>0.0</td>\n",
       "      <td>0.0</td>\n",
       "      <td>76.0</td>\n",
       "      <td>NaN</td>\n",
       "      <td>284.629041</td>\n",
       "      <td>broken clouds</td>\n",
       "      <td>6.0</td>\n",
       "      <td>0.0</td>\n",
       "    </tr>\n",
       "    <tr>\n",
       "      <th>2</th>\n",
       "      <td>10</td>\n",
       "      <td>1</td>\n",
       "      <td>14</td>\n",
       "      <td>49.249660</td>\n",
       "      <td>-123.119339</td>\n",
       "      <td>76.0</td>\n",
       "      <td>NaN</td>\n",
       "      <td>284.629041</td>\n",
       "      <td>broken clouds</td>\n",
       "      <td>6.0</td>\n",
       "      <td>0.0</td>\n",
       "      <td>76.0</td>\n",
       "      <td>NaN</td>\n",
       "      <td>284.626998</td>\n",
       "      <td>broken clouds</td>\n",
       "      <td>20.0</td>\n",
       "      <td>0.0</td>\n",
       "    </tr>\n",
       "    <tr>\n",
       "      <th>3</th>\n",
       "      <td>10</td>\n",
       "      <td>1</td>\n",
       "      <td>15</td>\n",
       "      <td>49.249660</td>\n",
       "      <td>-123.119339</td>\n",
       "      <td>76.0</td>\n",
       "      <td>NaN</td>\n",
       "      <td>284.626998</td>\n",
       "      <td>broken clouds</td>\n",
       "      <td>20.0</td>\n",
       "      <td>0.0</td>\n",
       "      <td>77.0</td>\n",
       "      <td>NaN</td>\n",
       "      <td>284.624955</td>\n",
       "      <td>broken clouds</td>\n",
       "      <td>34.0</td>\n",
       "      <td>0.0</td>\n",
       "    </tr>\n",
       "    <tr>\n",
       "      <th>4</th>\n",
       "      <td>10</td>\n",
       "      <td>1</td>\n",
       "      <td>16</td>\n",
       "      <td>49.249660</td>\n",
       "      <td>-123.119339</td>\n",
       "      <td>77.0</td>\n",
       "      <td>NaN</td>\n",
       "      <td>284.624955</td>\n",
       "      <td>broken clouds</td>\n",
       "      <td>34.0</td>\n",
       "      <td>0.0</td>\n",
       "      <td>78.0</td>\n",
       "      <td>NaN</td>\n",
       "      <td>284.622911</td>\n",
       "      <td>broken clouds</td>\n",
       "      <td>47.0</td>\n",
       "      <td>0.0</td>\n",
       "    </tr>\n",
       "    <tr>\n",
       "      <th>...</th>\n",
       "      <td>...</td>\n",
       "      <td>...</td>\n",
       "      <td>...</td>\n",
       "      <td>...</td>\n",
       "      <td>...</td>\n",
       "      <td>...</td>\n",
       "      <td>...</td>\n",
       "      <td>...</td>\n",
       "      <td>...</td>\n",
       "      <td>...</td>\n",
       "      <td>...</td>\n",
       "      <td>...</td>\n",
       "      <td>...</td>\n",
       "      <td>...</td>\n",
       "      <td>...</td>\n",
       "      <td>...</td>\n",
       "      <td>...</td>\n",
       "    </tr>\n",
       "    <tr>\n",
       "      <th>1629103</th>\n",
       "      <td>11</td>\n",
       "      <td>29</td>\n",
       "      <td>20</td>\n",
       "      <td>31.769039</td>\n",
       "      <td>35.216331</td>\n",
       "      <td>NaN</td>\n",
       "      <td>NaN</td>\n",
       "      <td>NaN</td>\n",
       "      <td>NaN</td>\n",
       "      <td>NaN</td>\n",
       "      <td>NaN</td>\n",
       "      <td>NaN</td>\n",
       "      <td>NaN</td>\n",
       "      <td>NaN</td>\n",
       "      <td>NaN</td>\n",
       "      <td>NaN</td>\n",
       "      <td>NaN</td>\n",
       "    </tr>\n",
       "    <tr>\n",
       "      <th>1629104</th>\n",
       "      <td>11</td>\n",
       "      <td>29</td>\n",
       "      <td>21</td>\n",
       "      <td>31.769039</td>\n",
       "      <td>35.216331</td>\n",
       "      <td>NaN</td>\n",
       "      <td>NaN</td>\n",
       "      <td>NaN</td>\n",
       "      <td>NaN</td>\n",
       "      <td>NaN</td>\n",
       "      <td>NaN</td>\n",
       "      <td>NaN</td>\n",
       "      <td>NaN</td>\n",
       "      <td>NaN</td>\n",
       "      <td>NaN</td>\n",
       "      <td>NaN</td>\n",
       "      <td>NaN</td>\n",
       "    </tr>\n",
       "    <tr>\n",
       "      <th>1629105</th>\n",
       "      <td>11</td>\n",
       "      <td>29</td>\n",
       "      <td>22</td>\n",
       "      <td>31.769039</td>\n",
       "      <td>35.216331</td>\n",
       "      <td>NaN</td>\n",
       "      <td>NaN</td>\n",
       "      <td>NaN</td>\n",
       "      <td>NaN</td>\n",
       "      <td>NaN</td>\n",
       "      <td>NaN</td>\n",
       "      <td>NaN</td>\n",
       "      <td>NaN</td>\n",
       "      <td>NaN</td>\n",
       "      <td>NaN</td>\n",
       "      <td>NaN</td>\n",
       "      <td>NaN</td>\n",
       "    </tr>\n",
       "    <tr>\n",
       "      <th>1629106</th>\n",
       "      <td>11</td>\n",
       "      <td>29</td>\n",
       "      <td>23</td>\n",
       "      <td>31.769039</td>\n",
       "      <td>35.216331</td>\n",
       "      <td>NaN</td>\n",
       "      <td>NaN</td>\n",
       "      <td>NaN</td>\n",
       "      <td>NaN</td>\n",
       "      <td>NaN</td>\n",
       "      <td>NaN</td>\n",
       "      <td>NaN</td>\n",
       "      <td>NaN</td>\n",
       "      <td>NaN</td>\n",
       "      <td>NaN</td>\n",
       "      <td>NaN</td>\n",
       "      <td>NaN</td>\n",
       "    </tr>\n",
       "    <tr>\n",
       "      <th>1629107</th>\n",
       "      <td>11</td>\n",
       "      <td>30</td>\n",
       "      <td>0</td>\n",
       "      <td>31.769039</td>\n",
       "      <td>35.216331</td>\n",
       "      <td>NaN</td>\n",
       "      <td>NaN</td>\n",
       "      <td>NaN</td>\n",
       "      <td>NaN</td>\n",
       "      <td>NaN</td>\n",
       "      <td>NaN</td>\n",
       "      <td>NaN</td>\n",
       "      <td>NaN</td>\n",
       "      <td>NaN</td>\n",
       "      <td>NaN</td>\n",
       "      <td>NaN</td>\n",
       "      <td>NaN</td>\n",
       "    </tr>\n",
       "  </tbody>\n",
       "</table>\n",
       "<p>1629108 rows × 17 columns</p>\n",
       "</div>"
      ],
      "text/plain": [
       "         month  day  hour_of_day   latitude   longitude  humidity  pressure  \\\n",
       "0           10    1           12  49.249660 -123.119339       NaN       NaN   \n",
       "1           10    1           13  49.249660 -123.119339      76.0       NaN   \n",
       "2           10    1           14  49.249660 -123.119339      76.0       NaN   \n",
       "3           10    1           15  49.249660 -123.119339      76.0       NaN   \n",
       "4           10    1           16  49.249660 -123.119339      77.0       NaN   \n",
       "...        ...  ...          ...        ...         ...       ...       ...   \n",
       "1629103     11   29           20  31.769039   35.216331       NaN       NaN   \n",
       "1629104     11   29           21  31.769039   35.216331       NaN       NaN   \n",
       "1629105     11   29           22  31.769039   35.216331       NaN       NaN   \n",
       "1629106     11   29           23  31.769039   35.216331       NaN       NaN   \n",
       "1629107     11   30            0  31.769039   35.216331       NaN       NaN   \n",
       "\n",
       "         temperature weather_description  wind_direction  wind_speed  \\\n",
       "0                NaN                 NaN             NaN         NaN   \n",
       "1         284.630000                mist             0.0         0.0   \n",
       "2         284.629041       broken clouds             6.0         0.0   \n",
       "3         284.626998       broken clouds            20.0         0.0   \n",
       "4         284.624955       broken clouds            34.0         0.0   \n",
       "...              ...                 ...             ...         ...   \n",
       "1629103          NaN                 NaN             NaN         NaN   \n",
       "1629104          NaN                 NaN             NaN         NaN   \n",
       "1629105          NaN                 NaN             NaN         NaN   \n",
       "1629106          NaN                 NaN             NaN         NaN   \n",
       "1629107          NaN                 NaN             NaN         NaN   \n",
       "\n",
       "         humidity_labels  pressure_labels  temperature_labels  \\\n",
       "0                   76.0              NaN          284.630000   \n",
       "1                   76.0              NaN          284.629041   \n",
       "2                   76.0              NaN          284.626998   \n",
       "3                   77.0              NaN          284.624955   \n",
       "4                   78.0              NaN          284.622911   \n",
       "...                  ...              ...                 ...   \n",
       "1629103              NaN              NaN                 NaN   \n",
       "1629104              NaN              NaN                 NaN   \n",
       "1629105              NaN              NaN                 NaN   \n",
       "1629106              NaN              NaN                 NaN   \n",
       "1629107              NaN              NaN                 NaN   \n",
       "\n",
       "        description_labels  wind_direction_labels  wind_speed_labels  \n",
       "0                     mist                    0.0                0.0  \n",
       "1            broken clouds                    6.0                0.0  \n",
       "2            broken clouds                   20.0                0.0  \n",
       "3            broken clouds                   34.0                0.0  \n",
       "4            broken clouds                   47.0                0.0  \n",
       "...                    ...                    ...                ...  \n",
       "1629103                NaN                    NaN                NaN  \n",
       "1629104                NaN                    NaN                NaN  \n",
       "1629105                NaN                    NaN                NaN  \n",
       "1629106                NaN                    NaN                NaN  \n",
       "1629107                NaN                    NaN                NaN  \n",
       "\n",
       "[1629108 rows x 17 columns]"
      ]
     },
     "execution_count": 39,
     "metadata": {},
     "output_type": "execute_result"
    }
   ],
   "source": [
    "weather_data_with_labels"
   ]
  },
  {
   "cell_type": "code",
   "execution_count": 40,
   "metadata": {},
   "outputs": [],
   "source": [
    "weather_data_with_labels = weather_data_with_labels.dropna(subset=[\"temperature\"])\n",
    "weather_data_with_labels = weather_data_with_labels.reset_index(drop=True)"
   ]
  },
  {
   "cell_type": "code",
   "execution_count": 41,
   "metadata": {},
   "outputs": [
    {
     "data": {
      "text/html": [
       "<div>\n",
       "<style scoped>\n",
       "    .dataframe tbody tr th:only-of-type {\n",
       "        vertical-align: middle;\n",
       "    }\n",
       "\n",
       "    .dataframe tbody tr th {\n",
       "        vertical-align: top;\n",
       "    }\n",
       "\n",
       "    .dataframe thead th {\n",
       "        text-align: right;\n",
       "    }\n",
       "</style>\n",
       "<table border=\"1\" class=\"dataframe\">\n",
       "  <thead>\n",
       "    <tr style=\"text-align: right;\">\n",
       "      <th></th>\n",
       "      <th>month</th>\n",
       "      <th>day</th>\n",
       "      <th>hour_of_day</th>\n",
       "      <th>latitude</th>\n",
       "      <th>longitude</th>\n",
       "      <th>humidity</th>\n",
       "      <th>pressure</th>\n",
       "      <th>temperature</th>\n",
       "      <th>weather_description</th>\n",
       "      <th>wind_direction</th>\n",
       "      <th>wind_speed</th>\n",
       "      <th>humidity_labels</th>\n",
       "      <th>pressure_labels</th>\n",
       "      <th>temperature_labels</th>\n",
       "      <th>description_labels</th>\n",
       "      <th>wind_direction_labels</th>\n",
       "      <th>wind_speed_labels</th>\n",
       "    </tr>\n",
       "  </thead>\n",
       "  <tbody>\n",
       "    <tr>\n",
       "      <th>0</th>\n",
       "      <td>10</td>\n",
       "      <td>1</td>\n",
       "      <td>13</td>\n",
       "      <td>49.249660</td>\n",
       "      <td>-123.119339</td>\n",
       "      <td>76.0</td>\n",
       "      <td>NaN</td>\n",
       "      <td>284.630000</td>\n",
       "      <td>mist</td>\n",
       "      <td>0.0</td>\n",
       "      <td>0.0</td>\n",
       "      <td>76.0</td>\n",
       "      <td>NaN</td>\n",
       "      <td>284.629041</td>\n",
       "      <td>broken clouds</td>\n",
       "      <td>6.0</td>\n",
       "      <td>0.0</td>\n",
       "    </tr>\n",
       "    <tr>\n",
       "      <th>1</th>\n",
       "      <td>10</td>\n",
       "      <td>1</td>\n",
       "      <td>14</td>\n",
       "      <td>49.249660</td>\n",
       "      <td>-123.119339</td>\n",
       "      <td>76.0</td>\n",
       "      <td>NaN</td>\n",
       "      <td>284.629041</td>\n",
       "      <td>broken clouds</td>\n",
       "      <td>6.0</td>\n",
       "      <td>0.0</td>\n",
       "      <td>76.0</td>\n",
       "      <td>NaN</td>\n",
       "      <td>284.626998</td>\n",
       "      <td>broken clouds</td>\n",
       "      <td>20.0</td>\n",
       "      <td>0.0</td>\n",
       "    </tr>\n",
       "    <tr>\n",
       "      <th>2</th>\n",
       "      <td>10</td>\n",
       "      <td>1</td>\n",
       "      <td>15</td>\n",
       "      <td>49.249660</td>\n",
       "      <td>-123.119339</td>\n",
       "      <td>76.0</td>\n",
       "      <td>NaN</td>\n",
       "      <td>284.626998</td>\n",
       "      <td>broken clouds</td>\n",
       "      <td>20.0</td>\n",
       "      <td>0.0</td>\n",
       "      <td>77.0</td>\n",
       "      <td>NaN</td>\n",
       "      <td>284.624955</td>\n",
       "      <td>broken clouds</td>\n",
       "      <td>34.0</td>\n",
       "      <td>0.0</td>\n",
       "    </tr>\n",
       "    <tr>\n",
       "      <th>3</th>\n",
       "      <td>10</td>\n",
       "      <td>1</td>\n",
       "      <td>16</td>\n",
       "      <td>49.249660</td>\n",
       "      <td>-123.119339</td>\n",
       "      <td>77.0</td>\n",
       "      <td>NaN</td>\n",
       "      <td>284.624955</td>\n",
       "      <td>broken clouds</td>\n",
       "      <td>34.0</td>\n",
       "      <td>0.0</td>\n",
       "      <td>78.0</td>\n",
       "      <td>NaN</td>\n",
       "      <td>284.622911</td>\n",
       "      <td>broken clouds</td>\n",
       "      <td>47.0</td>\n",
       "      <td>0.0</td>\n",
       "    </tr>\n",
       "    <tr>\n",
       "      <th>4</th>\n",
       "      <td>10</td>\n",
       "      <td>1</td>\n",
       "      <td>17</td>\n",
       "      <td>49.249660</td>\n",
       "      <td>-123.119339</td>\n",
       "      <td>78.0</td>\n",
       "      <td>NaN</td>\n",
       "      <td>284.622911</td>\n",
       "      <td>broken clouds</td>\n",
       "      <td>47.0</td>\n",
       "      <td>0.0</td>\n",
       "      <td>78.0</td>\n",
       "      <td>NaN</td>\n",
       "      <td>284.620868</td>\n",
       "      <td>broken clouds</td>\n",
       "      <td>61.0</td>\n",
       "      <td>0.0</td>\n",
       "    </tr>\n",
       "    <tr>\n",
       "      <th>...</th>\n",
       "      <td>...</td>\n",
       "      <td>...</td>\n",
       "      <td>...</td>\n",
       "      <td>...</td>\n",
       "      <td>...</td>\n",
       "      <td>...</td>\n",
       "      <td>...</td>\n",
       "      <td>...</td>\n",
       "      <td>...</td>\n",
       "      <td>...</td>\n",
       "      <td>...</td>\n",
       "      <td>...</td>\n",
       "      <td>...</td>\n",
       "      <td>...</td>\n",
       "      <td>...</td>\n",
       "      <td>...</td>\n",
       "      <td>...</td>\n",
       "    </tr>\n",
       "    <tr>\n",
       "      <th>1621073</th>\n",
       "      <td>10</td>\n",
       "      <td>27</td>\n",
       "      <td>20</td>\n",
       "      <td>31.769039</td>\n",
       "      <td>35.216331</td>\n",
       "      <td>68.0</td>\n",
       "      <td>1011.0</td>\n",
       "      <td>295.760000</td>\n",
       "      <td>sky is clear</td>\n",
       "      <td>0.0</td>\n",
       "      <td>1.0</td>\n",
       "      <td>72.0</td>\n",
       "      <td>1011.0</td>\n",
       "      <td>293.150000</td>\n",
       "      <td>sky is clear</td>\n",
       "      <td>0.0</td>\n",
       "      <td>1.0</td>\n",
       "    </tr>\n",
       "    <tr>\n",
       "      <th>1621074</th>\n",
       "      <td>10</td>\n",
       "      <td>27</td>\n",
       "      <td>21</td>\n",
       "      <td>31.769039</td>\n",
       "      <td>35.216331</td>\n",
       "      <td>72.0</td>\n",
       "      <td>1011.0</td>\n",
       "      <td>293.150000</td>\n",
       "      <td>sky is clear</td>\n",
       "      <td>0.0</td>\n",
       "      <td>1.0</td>\n",
       "      <td>60.0</td>\n",
       "      <td>1011.0</td>\n",
       "      <td>294.150000</td>\n",
       "      <td>sky is clear</td>\n",
       "      <td>0.0</td>\n",
       "      <td>1.0</td>\n",
       "    </tr>\n",
       "    <tr>\n",
       "      <th>1621075</th>\n",
       "      <td>10</td>\n",
       "      <td>27</td>\n",
       "      <td>22</td>\n",
       "      <td>31.769039</td>\n",
       "      <td>35.216331</td>\n",
       "      <td>60.0</td>\n",
       "      <td>1011.0</td>\n",
       "      <td>294.150000</td>\n",
       "      <td>sky is clear</td>\n",
       "      <td>0.0</td>\n",
       "      <td>1.0</td>\n",
       "      <td>56.0</td>\n",
       "      <td>1011.0</td>\n",
       "      <td>294.150000</td>\n",
       "      <td>sky is clear</td>\n",
       "      <td>150.0</td>\n",
       "      <td>3.0</td>\n",
       "    </tr>\n",
       "    <tr>\n",
       "      <th>1621076</th>\n",
       "      <td>10</td>\n",
       "      <td>27</td>\n",
       "      <td>23</td>\n",
       "      <td>31.769039</td>\n",
       "      <td>35.216331</td>\n",
       "      <td>56.0</td>\n",
       "      <td>1011.0</td>\n",
       "      <td>294.150000</td>\n",
       "      <td>sky is clear</td>\n",
       "      <td>150.0</td>\n",
       "      <td>3.0</td>\n",
       "      <td>60.0</td>\n",
       "      <td>1011.0</td>\n",
       "      <td>294.150000</td>\n",
       "      <td>few clouds</td>\n",
       "      <td>0.0</td>\n",
       "      <td>1.0</td>\n",
       "    </tr>\n",
       "    <tr>\n",
       "      <th>1621077</th>\n",
       "      <td>10</td>\n",
       "      <td>28</td>\n",
       "      <td>0</td>\n",
       "      <td>31.769039</td>\n",
       "      <td>35.216331</td>\n",
       "      <td>60.0</td>\n",
       "      <td>1011.0</td>\n",
       "      <td>294.150000</td>\n",
       "      <td>few clouds</td>\n",
       "      <td>0.0</td>\n",
       "      <td>1.0</td>\n",
       "      <td>NaN</td>\n",
       "      <td>NaN</td>\n",
       "      <td>NaN</td>\n",
       "      <td>NaN</td>\n",
       "      <td>NaN</td>\n",
       "      <td>NaN</td>\n",
       "    </tr>\n",
       "  </tbody>\n",
       "</table>\n",
       "<p>1621078 rows × 17 columns</p>\n",
       "</div>"
      ],
      "text/plain": [
       "         month  day  hour_of_day   latitude   longitude  humidity  pressure  \\\n",
       "0           10    1           13  49.249660 -123.119339      76.0       NaN   \n",
       "1           10    1           14  49.249660 -123.119339      76.0       NaN   \n",
       "2           10    1           15  49.249660 -123.119339      76.0       NaN   \n",
       "3           10    1           16  49.249660 -123.119339      77.0       NaN   \n",
       "4           10    1           17  49.249660 -123.119339      78.0       NaN   \n",
       "...        ...  ...          ...        ...         ...       ...       ...   \n",
       "1621073     10   27           20  31.769039   35.216331      68.0    1011.0   \n",
       "1621074     10   27           21  31.769039   35.216331      72.0    1011.0   \n",
       "1621075     10   27           22  31.769039   35.216331      60.0    1011.0   \n",
       "1621076     10   27           23  31.769039   35.216331      56.0    1011.0   \n",
       "1621077     10   28            0  31.769039   35.216331      60.0    1011.0   \n",
       "\n",
       "         temperature weather_description  wind_direction  wind_speed  \\\n",
       "0         284.630000                mist             0.0         0.0   \n",
       "1         284.629041       broken clouds             6.0         0.0   \n",
       "2         284.626998       broken clouds            20.0         0.0   \n",
       "3         284.624955       broken clouds            34.0         0.0   \n",
       "4         284.622911       broken clouds            47.0         0.0   \n",
       "...              ...                 ...             ...         ...   \n",
       "1621073   295.760000        sky is clear             0.0         1.0   \n",
       "1621074   293.150000        sky is clear             0.0         1.0   \n",
       "1621075   294.150000        sky is clear             0.0         1.0   \n",
       "1621076   294.150000        sky is clear           150.0         3.0   \n",
       "1621077   294.150000          few clouds             0.0         1.0   \n",
       "\n",
       "         humidity_labels  pressure_labels  temperature_labels  \\\n",
       "0                   76.0              NaN          284.629041   \n",
       "1                   76.0              NaN          284.626998   \n",
       "2                   77.0              NaN          284.624955   \n",
       "3                   78.0              NaN          284.622911   \n",
       "4                   78.0              NaN          284.620868   \n",
       "...                  ...              ...                 ...   \n",
       "1621073             72.0           1011.0          293.150000   \n",
       "1621074             60.0           1011.0          294.150000   \n",
       "1621075             56.0           1011.0          294.150000   \n",
       "1621076             60.0           1011.0          294.150000   \n",
       "1621077              NaN              NaN                 NaN   \n",
       "\n",
       "        description_labels  wind_direction_labels  wind_speed_labels  \n",
       "0            broken clouds                    6.0                0.0  \n",
       "1            broken clouds                   20.0                0.0  \n",
       "2            broken clouds                   34.0                0.0  \n",
       "3            broken clouds                   47.0                0.0  \n",
       "4            broken clouds                   61.0                0.0  \n",
       "...                    ...                    ...                ...  \n",
       "1621073       sky is clear                    0.0                1.0  \n",
       "1621074       sky is clear                    0.0                1.0  \n",
       "1621075       sky is clear                  150.0                3.0  \n",
       "1621076         few clouds                    0.0                1.0  \n",
       "1621077                NaN                    NaN                NaN  \n",
       "\n",
       "[1621078 rows x 17 columns]"
      ]
     },
     "execution_count": 41,
     "metadata": {},
     "output_type": "execute_result"
    }
   ],
   "source": [
    "weather_data_with_labels"
   ]
  },
  {
   "cell_type": "code",
   "execution_count": 42,
   "metadata": {},
   "outputs": [],
   "source": [
    "training_set = weather_data_with_labels.iloc[:,7:8].values"
   ]
  },
  {
   "cell_type": "code",
   "execution_count": 43,
   "metadata": {},
   "outputs": [
    {
     "data": {
      "text/plain": [
       "array([[284.63      ],\n",
       "       [284.62904131],\n",
       "       [284.62699792],\n",
       "       ...,\n",
       "       [294.15      ],\n",
       "       [294.15      ],\n",
       "       [294.15      ]])"
      ]
     },
     "execution_count": 43,
     "metadata": {},
     "output_type": "execute_result"
    }
   ],
   "source": [
    "training_set"
   ]
  },
  {
   "cell_type": "code",
   "execution_count": 44,
   "metadata": {},
   "outputs": [],
   "source": [
    "#Feature Scaling \n",
    "from sklearn.preprocessing import MinMaxScaler\n",
    "\n",
    "sc = MinMaxScaler(feature_range=(0,1))\n",
    "training_set_scaled = sc.fit_transform(training_set)"
   ]
  },
  {
   "cell_type": "code",
   "execution_count": 45,
   "metadata": {},
   "outputs": [],
   "source": [
    "from pickle import dump\n",
    "\n",
    "# Save transformer\n",
    "dump(sc, open('temperature_scaler.pkl', 'wb'))"
   ]
  },
  {
   "cell_type": "code",
   "execution_count": 46,
   "metadata": {},
   "outputs": [],
   "source": [
    "from pickle import load\n",
    "\n",
    "scaler = load(open('temperature_scaler.pkl', 'rb'))"
   ]
  },
  {
   "cell_type": "code",
   "execution_count": 47,
   "metadata": {},
   "outputs": [],
   "source": [
    "\n",
    "def gethourlydata(past_hours=24):\n",
    "    x_train = []\n",
    "    y_train = []\n",
    "    future_hours = 12\n",
    "\n",
    "    # only using 50000 rows of the dataset for now\n",
    "    # add previous hours to a row of the x_train dataset\n",
    "    # add future hours for weather in y_train\n",
    "    for i in range(0,50000):\n",
    "        x_train.append(training_set_scaled[i : i + past_hours])     \n",
    "        y_train.append(training_set_scaled[i + past_hours : i + future_hours + past_hours])\n",
    "\n",
    "    x_train , y_train = np.array(x_train), np.array(y_train)\n",
    "    #x_train = np.reshape(x_train, (x_train.shape[0] , x_train.shape[1], 1) )\n",
    "\n",
    "    return np.array(x_train), np.array(y_train)"
   ]
  },
  {
   "cell_type": "code",
   "execution_count": 48,
   "metadata": {},
   "outputs": [],
   "source": [
    "past_hours = 24\n",
    "future_hours = 12\n",
    "x_train, y_train = gethourlydata(past_hours=24)"
   ]
  },
  {
   "cell_type": "code",
   "execution_count": 49,
   "metadata": {},
   "outputs": [
    {
     "data": {
      "text/plain": [
       "10000"
      ]
     },
     "execution_count": 49,
     "metadata": {},
     "output_type": "execute_result"
    }
   ],
   "source": [
    "x_train[35000:45000].shape[0]"
   ]
  },
  {
   "cell_type": "code",
   "execution_count": 50,
   "metadata": {},
   "outputs": [
    {
     "data": {
      "text/plain": [
       "array([[[0.53424889],\n",
       "        [0.57101204],\n",
       "        [0.60346503],\n",
       "        [0.60726812],\n",
       "        [0.61195859],\n",
       "        [0.62514262],\n",
       "        [0.62679062],\n",
       "        [0.61614198],\n",
       "        [0.60371857],\n",
       "        [0.57088527],\n",
       "        [0.5628988 ],\n",
       "        [0.53386858]]])"
      ]
     },
     "execution_count": 50,
     "metadata": {},
     "output_type": "execute_result"
    }
   ],
   "source": [
    "y_train[100:101]"
   ]
  },
  {
   "cell_type": "code",
   "execution_count": 51,
   "metadata": {},
   "outputs": [],
   "source": [
    "x_valid, y_valid = x_train[35000:45000, :past_hours], y_train[35000:45000, :future_hours]\n",
    "x_test, y_test = x_train[45000:, :past_hours], y_train[45000:, :future_hours]\n",
    "x_train, y_train = x_train[:35000, :past_hours], y_train[:35000, :future_hours]"
   ]
  },
  {
   "cell_type": "code",
   "execution_count": 52,
   "metadata": {},
   "outputs": [],
   "source": [
    "from tensorflow import keras\n",
    "\n",
    "model = keras.models.Sequential([\n",
    "    keras.layers.LSTM(30, return_sequences=True, input_shape=[None, 1]),\n",
    "    keras.layers.LSTM(30, return_sequences=True),\n",
    "    keras.layers.LSTM(30),\n",
    "    keras.layers.Dense(12)\n",
    "])\n",
    "\n",
    "def last_time_step_mse(Y_true, Y_pred):\n",
    "    return keras.metrics.mean_squared_error(Y_true[:, -1], Y_pred[:, -1])\n",
    "#optimizer = keras.optimizers.Adam(lr=0.01)\n",
    "\n",
    "model.compile(loss=\"mse\", optimizer=\"adam\")"
   ]
  },
  {
   "cell_type": "code",
   "execution_count": 53,
   "metadata": {},
   "outputs": [
    {
     "data": {
      "text/plain": [
       "array([[0.58799915],\n",
       "       [0.56873019],\n",
       "       [0.55389816],\n",
       "       [0.53412212],\n",
       "       [0.51979717],\n",
       "       [0.510543  ],\n",
       "       [0.50800761],\n",
       "       [0.49418973],\n",
       "       [0.49025988],\n",
       "       [0.48582295],\n",
       "       [0.47428692],\n",
       "       [0.47213184]])"
      ]
     },
     "execution_count": 53,
     "metadata": {},
     "output_type": "execute_result"
    }
   ],
   "source": [
    "y_valid[1]"
   ]
  },
  {
   "cell_type": "code",
   "execution_count": 54,
   "metadata": {},
   "outputs": [
    {
     "name": "stdout",
     "output_type": "stream",
     "text": [
      "Train on 35000 samples, validate on 10000 samples\n",
      "Epoch 1/200\n",
      "35000/35000 [==============================] - 8s 241us/sample - loss: 0.0079 - val_loss: 0.0014\n",
      "Epoch 2/200\n",
      "35000/35000 [==============================] - 5s 145us/sample - loss: 0.0012 - val_loss: 0.0014\n",
      "Epoch 3/200\n",
      "35000/35000 [==============================] - 5s 142us/sample - loss: 0.0011 - val_loss: 0.0013\n",
      "Epoch 4/200\n",
      "35000/35000 [==============================] - 5s 142us/sample - loss: 0.0010 - val_loss: 0.0011\n",
      "Epoch 5/200\n",
      "35000/35000 [==============================] - 5s 147us/sample - loss: 8.6095e-04 - val_loss: 0.0011\n",
      "Epoch 6/200\n",
      "35000/35000 [==============================] - 5s 142us/sample - loss: 7.9160e-04 - val_loss: 8.6968e-04\n",
      "Epoch 7/200\n",
      "35000/35000 [==============================] - 5s 141us/sample - loss: 7.3548e-04 - val_loss: 8.2227e-04\n",
      "Epoch 8/200\n",
      "35000/35000 [==============================] - 5s 150us/sample - loss: 7.2284e-04 - val_loss: 8.2064e-04\n",
      "Epoch 9/200\n",
      "35000/35000 [==============================] - 5s 146us/sample - loss: 7.1430e-04 - val_loss: 8.0870e-04\n",
      "Epoch 10/200\n",
      "35000/35000 [==============================] - 5s 148us/sample - loss: 6.8700e-04 - val_loss: 7.8063e-04\n",
      "Epoch 11/200\n",
      "35000/35000 [==============================] - 5s 141us/sample - loss: 6.8409e-04 - val_loss: 7.7234e-04\n",
      "Epoch 12/200\n",
      "35000/35000 [==============================] - 5s 144us/sample - loss: 6.5976e-04 - val_loss: 7.6755e-04\n",
      "Epoch 13/200\n",
      "35000/35000 [==============================] - 5s 142us/sample - loss: 6.4264e-04 - val_loss: 9.1415e-04\n",
      "Epoch 14/200\n",
      "35000/35000 [==============================] - 5s 142us/sample - loss: 6.2233e-04 - val_loss: 7.1368e-04\n",
      "Epoch 15/200\n",
      "35000/35000 [==============================] - 5s 141us/sample - loss: 5.9410e-04 - val_loss: 8.5392e-04\n",
      "Epoch 16/200\n",
      "35000/35000 [==============================] - 5s 140us/sample - loss: 5.8439e-04 - val_loss: 6.6466e-04\n",
      "Epoch 17/200\n",
      "35000/35000 [==============================] - 5s 140us/sample - loss: 5.6077e-04 - val_loss: 6.5628e-04\n",
      "Epoch 18/200\n",
      "35000/35000 [==============================] - 5s 145us/sample - loss: 5.4941e-04 - val_loss: 6.8691e-04\n",
      "Epoch 19/200\n",
      "35000/35000 [==============================] - 5s 152us/sample - loss: 5.3126e-04 - val_loss: 6.2402e-04\n",
      "Epoch 20/200\n",
      "35000/35000 [==============================] - 5s 142us/sample - loss: 5.1881e-04 - val_loss: 6.2957e-04\n",
      "Epoch 21/200\n",
      "35000/35000 [==============================] - 5s 152us/sample - loss: 5.0794e-04 - val_loss: 5.9498e-04\n",
      "Epoch 22/200\n",
      "35000/35000 [==============================] - 5s 151us/sample - loss: 5.0168e-04 - val_loss: 5.8424e-04\n",
      "Epoch 23/200\n",
      "35000/35000 [==============================] - 5s 149us/sample - loss: 4.9495e-04 - val_loss: 6.2222e-04\n",
      "Epoch 24/200\n",
      "35000/35000 [==============================] - 5s 144us/sample - loss: 4.9131e-04 - val_loss: 6.2052e-04\n",
      "Epoch 25/200\n",
      "35000/35000 [==============================] - 5s 146us/sample - loss: 4.8384e-04 - val_loss: 6.0905e-04\n",
      "Epoch 26/200\n",
      " 2176/35000 [>.............................] - ETA: 4s - loss: 4.7395e-04WARNING:tensorflow:Early stopping conditioned on metric `val_loss` which is not available. Available metrics are: loss\n"
     ]
    },
    {
     "ename": "KeyboardInterrupt",
     "evalue": "",
     "output_type": "error",
     "traceback": [
      "\u001b[1;31m---------------------------------------------------------------------------\u001b[0m",
      "\u001b[1;31mKeyboardInterrupt\u001b[0m                         Traceback (most recent call last)",
      "\u001b[1;32m<ipython-input-54-739082c0fa79>\u001b[0m in \u001b[0;36m<module>\u001b[1;34m\u001b[0m\n\u001b[0;32m      1\u001b[0m model.fit(x_train, y_train, epochs=200, validation_data=(x_valid, y_valid), \n\u001b[1;32m----> 2\u001b[1;33m          callbacks=[keras.callbacks.EarlyStopping(monitor='val_loss', patience=10)], batch_size=64)\n\u001b[0m",
      "\u001b[1;32m~\\AppData\\Roaming\\Python\\Python37\\site-packages\\tensorflow_core\\python\\keras\\engine\\training.py\u001b[0m in \u001b[0;36mfit\u001b[1;34m(self, x, y, batch_size, epochs, verbose, callbacks, validation_split, validation_data, shuffle, class_weight, sample_weight, initial_epoch, steps_per_epoch, validation_steps, validation_freq, max_queue_size, workers, use_multiprocessing, **kwargs)\u001b[0m\n\u001b[0;32m    817\u001b[0m         \u001b[0mmax_queue_size\u001b[0m\u001b[1;33m=\u001b[0m\u001b[0mmax_queue_size\u001b[0m\u001b[1;33m,\u001b[0m\u001b[1;33m\u001b[0m\u001b[1;33m\u001b[0m\u001b[0m\n\u001b[0;32m    818\u001b[0m         \u001b[0mworkers\u001b[0m\u001b[1;33m=\u001b[0m\u001b[0mworkers\u001b[0m\u001b[1;33m,\u001b[0m\u001b[1;33m\u001b[0m\u001b[1;33m\u001b[0m\u001b[0m\n\u001b[1;32m--> 819\u001b[1;33m         use_multiprocessing=use_multiprocessing)\n\u001b[0m\u001b[0;32m    820\u001b[0m \u001b[1;33m\u001b[0m\u001b[0m\n\u001b[0;32m    821\u001b[0m   def evaluate(self,\n",
      "\u001b[1;32m~\\AppData\\Roaming\\Python\\Python37\\site-packages\\tensorflow_core\\python\\keras\\engine\\training_v2.py\u001b[0m in \u001b[0;36mfit\u001b[1;34m(self, model, x, y, batch_size, epochs, verbose, callbacks, validation_split, validation_data, shuffle, class_weight, sample_weight, initial_epoch, steps_per_epoch, validation_steps, validation_freq, max_queue_size, workers, use_multiprocessing, **kwargs)\u001b[0m\n\u001b[0;32m    340\u001b[0m                 \u001b[0mmode\u001b[0m\u001b[1;33m=\u001b[0m\u001b[0mModeKeys\u001b[0m\u001b[1;33m.\u001b[0m\u001b[0mTRAIN\u001b[0m\u001b[1;33m,\u001b[0m\u001b[1;33m\u001b[0m\u001b[1;33m\u001b[0m\u001b[0m\n\u001b[0;32m    341\u001b[0m                 \u001b[0mtraining_context\u001b[0m\u001b[1;33m=\u001b[0m\u001b[0mtraining_context\u001b[0m\u001b[1;33m,\u001b[0m\u001b[1;33m\u001b[0m\u001b[1;33m\u001b[0m\u001b[0m\n\u001b[1;32m--> 342\u001b[1;33m                 total_epochs=epochs)\n\u001b[0m\u001b[0;32m    343\u001b[0m             \u001b[0mcbks\u001b[0m\u001b[1;33m.\u001b[0m\u001b[0mmake_logs\u001b[0m\u001b[1;33m(\u001b[0m\u001b[0mmodel\u001b[0m\u001b[1;33m,\u001b[0m \u001b[0mepoch_logs\u001b[0m\u001b[1;33m,\u001b[0m \u001b[0mtraining_result\u001b[0m\u001b[1;33m,\u001b[0m \u001b[0mModeKeys\u001b[0m\u001b[1;33m.\u001b[0m\u001b[0mTRAIN\u001b[0m\u001b[1;33m)\u001b[0m\u001b[1;33m\u001b[0m\u001b[1;33m\u001b[0m\u001b[0m\n\u001b[0;32m    344\u001b[0m \u001b[1;33m\u001b[0m\u001b[0m\n",
      "\u001b[1;32m~\\AppData\\Roaming\\Python\\Python37\\site-packages\\tensorflow_core\\python\\keras\\engine\\training_v2.py\u001b[0m in \u001b[0;36mrun_one_epoch\u001b[1;34m(model, iterator, execution_function, dataset_size, batch_size, strategy, steps_per_epoch, num_samples, mode, training_context, total_epochs)\u001b[0m\n\u001b[0;32m    126\u001b[0m         step=step, mode=mode, size=current_batch_size) as batch_logs:\n\u001b[0;32m    127\u001b[0m       \u001b[1;32mtry\u001b[0m\u001b[1;33m:\u001b[0m\u001b[1;33m\u001b[0m\u001b[1;33m\u001b[0m\u001b[0m\n\u001b[1;32m--> 128\u001b[1;33m         \u001b[0mbatch_outs\u001b[0m \u001b[1;33m=\u001b[0m \u001b[0mexecution_function\u001b[0m\u001b[1;33m(\u001b[0m\u001b[0miterator\u001b[0m\u001b[1;33m)\u001b[0m\u001b[1;33m\u001b[0m\u001b[1;33m\u001b[0m\u001b[0m\n\u001b[0m\u001b[0;32m    129\u001b[0m       \u001b[1;32mexcept\u001b[0m \u001b[1;33m(\u001b[0m\u001b[0mStopIteration\u001b[0m\u001b[1;33m,\u001b[0m \u001b[0merrors\u001b[0m\u001b[1;33m.\u001b[0m\u001b[0mOutOfRangeError\u001b[0m\u001b[1;33m)\u001b[0m\u001b[1;33m:\u001b[0m\u001b[1;33m\u001b[0m\u001b[1;33m\u001b[0m\u001b[0m\n\u001b[0;32m    130\u001b[0m         \u001b[1;31m# TODO(kaftan): File bug about tf function and errors.OutOfRangeError?\u001b[0m\u001b[1;33m\u001b[0m\u001b[1;33m\u001b[0m\u001b[1;33m\u001b[0m\u001b[0m\n",
      "\u001b[1;32m~\\AppData\\Roaming\\Python\\Python37\\site-packages\\tensorflow_core\\python\\keras\\engine\\training_v2_utils.py\u001b[0m in \u001b[0;36mexecution_function\u001b[1;34m(input_fn)\u001b[0m\n\u001b[0;32m     96\u001b[0m     \u001b[1;31m# `numpy` translates Tensors to values in Eager mode.\u001b[0m\u001b[1;33m\u001b[0m\u001b[1;33m\u001b[0m\u001b[1;33m\u001b[0m\u001b[0m\n\u001b[0;32m     97\u001b[0m     return nest.map_structure(_non_none_constant_value,\n\u001b[1;32m---> 98\u001b[1;33m                               distributed_function(input_fn))\n\u001b[0m\u001b[0;32m     99\u001b[0m \u001b[1;33m\u001b[0m\u001b[0m\n\u001b[0;32m    100\u001b[0m   \u001b[1;32mreturn\u001b[0m \u001b[0mexecution_function\u001b[0m\u001b[1;33m\u001b[0m\u001b[1;33m\u001b[0m\u001b[0m\n",
      "\u001b[1;32m~\\AppData\\Roaming\\Python\\Python37\\site-packages\\tensorflow_core\\python\\eager\\def_function.py\u001b[0m in \u001b[0;36m__call__\u001b[1;34m(self, *args, **kwds)\u001b[0m\n\u001b[0;32m    566\u001b[0m         \u001b[0mxla_context\u001b[0m\u001b[1;33m.\u001b[0m\u001b[0mExit\u001b[0m\u001b[1;33m(\u001b[0m\u001b[1;33m)\u001b[0m\u001b[1;33m\u001b[0m\u001b[1;33m\u001b[0m\u001b[0m\n\u001b[0;32m    567\u001b[0m     \u001b[1;32melse\u001b[0m\u001b[1;33m:\u001b[0m\u001b[1;33m\u001b[0m\u001b[1;33m\u001b[0m\u001b[0m\n\u001b[1;32m--> 568\u001b[1;33m       \u001b[0mresult\u001b[0m \u001b[1;33m=\u001b[0m \u001b[0mself\u001b[0m\u001b[1;33m.\u001b[0m\u001b[0m_call\u001b[0m\u001b[1;33m(\u001b[0m\u001b[1;33m*\u001b[0m\u001b[0margs\u001b[0m\u001b[1;33m,\u001b[0m \u001b[1;33m**\u001b[0m\u001b[0mkwds\u001b[0m\u001b[1;33m)\u001b[0m\u001b[1;33m\u001b[0m\u001b[1;33m\u001b[0m\u001b[0m\n\u001b[0m\u001b[0;32m    569\u001b[0m \u001b[1;33m\u001b[0m\u001b[0m\n\u001b[0;32m    570\u001b[0m     \u001b[1;32mif\u001b[0m \u001b[0mtracing_count\u001b[0m \u001b[1;33m==\u001b[0m \u001b[0mself\u001b[0m\u001b[1;33m.\u001b[0m\u001b[0m_get_tracing_count\u001b[0m\u001b[1;33m(\u001b[0m\u001b[1;33m)\u001b[0m\u001b[1;33m:\u001b[0m\u001b[1;33m\u001b[0m\u001b[1;33m\u001b[0m\u001b[0m\n",
      "\u001b[1;32m~\\AppData\\Roaming\\Python\\Python37\\site-packages\\tensorflow_core\\python\\eager\\def_function.py\u001b[0m in \u001b[0;36m_call\u001b[1;34m(self, *args, **kwds)\u001b[0m\n\u001b[0;32m    597\u001b[0m       \u001b[1;31m# In this case we have created variables on the first call, so we run the\u001b[0m\u001b[1;33m\u001b[0m\u001b[1;33m\u001b[0m\u001b[1;33m\u001b[0m\u001b[0m\n\u001b[0;32m    598\u001b[0m       \u001b[1;31m# defunned version which is guaranteed to never create variables.\u001b[0m\u001b[1;33m\u001b[0m\u001b[1;33m\u001b[0m\u001b[1;33m\u001b[0m\u001b[0m\n\u001b[1;32m--> 599\u001b[1;33m       \u001b[1;32mreturn\u001b[0m \u001b[0mself\u001b[0m\u001b[1;33m.\u001b[0m\u001b[0m_stateless_fn\u001b[0m\u001b[1;33m(\u001b[0m\u001b[1;33m*\u001b[0m\u001b[0margs\u001b[0m\u001b[1;33m,\u001b[0m \u001b[1;33m**\u001b[0m\u001b[0mkwds\u001b[0m\u001b[1;33m)\u001b[0m  \u001b[1;31m# pylint: disable=not-callable\u001b[0m\u001b[1;33m\u001b[0m\u001b[1;33m\u001b[0m\u001b[0m\n\u001b[0m\u001b[0;32m    600\u001b[0m     \u001b[1;32melif\u001b[0m \u001b[0mself\u001b[0m\u001b[1;33m.\u001b[0m\u001b[0m_stateful_fn\u001b[0m \u001b[1;32mis\u001b[0m \u001b[1;32mnot\u001b[0m \u001b[1;32mNone\u001b[0m\u001b[1;33m:\u001b[0m\u001b[1;33m\u001b[0m\u001b[1;33m\u001b[0m\u001b[0m\n\u001b[0;32m    601\u001b[0m       \u001b[1;31m# Release the lock early so that multiple threads can perform the call\u001b[0m\u001b[1;33m\u001b[0m\u001b[1;33m\u001b[0m\u001b[1;33m\u001b[0m\u001b[0m\n",
      "\u001b[1;32m~\\AppData\\Roaming\\Python\\Python37\\site-packages\\tensorflow_core\\python\\eager\\function.py\u001b[0m in \u001b[0;36m__call__\u001b[1;34m(self, *args, **kwargs)\u001b[0m\n\u001b[0;32m   2361\u001b[0m     \u001b[1;32mwith\u001b[0m \u001b[0mself\u001b[0m\u001b[1;33m.\u001b[0m\u001b[0m_lock\u001b[0m\u001b[1;33m:\u001b[0m\u001b[1;33m\u001b[0m\u001b[1;33m\u001b[0m\u001b[0m\n\u001b[0;32m   2362\u001b[0m       \u001b[0mgraph_function\u001b[0m\u001b[1;33m,\u001b[0m \u001b[0margs\u001b[0m\u001b[1;33m,\u001b[0m \u001b[0mkwargs\u001b[0m \u001b[1;33m=\u001b[0m \u001b[0mself\u001b[0m\u001b[1;33m.\u001b[0m\u001b[0m_maybe_define_function\u001b[0m\u001b[1;33m(\u001b[0m\u001b[0margs\u001b[0m\u001b[1;33m,\u001b[0m \u001b[0mkwargs\u001b[0m\u001b[1;33m)\u001b[0m\u001b[1;33m\u001b[0m\u001b[1;33m\u001b[0m\u001b[0m\n\u001b[1;32m-> 2363\u001b[1;33m     \u001b[1;32mreturn\u001b[0m \u001b[0mgraph_function\u001b[0m\u001b[1;33m.\u001b[0m\u001b[0m_filtered_call\u001b[0m\u001b[1;33m(\u001b[0m\u001b[0margs\u001b[0m\u001b[1;33m,\u001b[0m \u001b[0mkwargs\u001b[0m\u001b[1;33m)\u001b[0m  \u001b[1;31m# pylint: disable=protected-access\u001b[0m\u001b[1;33m\u001b[0m\u001b[1;33m\u001b[0m\u001b[0m\n\u001b[0m\u001b[0;32m   2364\u001b[0m \u001b[1;33m\u001b[0m\u001b[0m\n\u001b[0;32m   2365\u001b[0m   \u001b[1;33m@\u001b[0m\u001b[0mproperty\u001b[0m\u001b[1;33m\u001b[0m\u001b[1;33m\u001b[0m\u001b[0m\n",
      "\u001b[1;32m~\\AppData\\Roaming\\Python\\Python37\\site-packages\\tensorflow_core\\python\\eager\\function.py\u001b[0m in \u001b[0;36m_filtered_call\u001b[1;34m(self, args, kwargs)\u001b[0m\n\u001b[0;32m   1609\u001b[0m          if isinstance(t, (ops.Tensor,\n\u001b[0;32m   1610\u001b[0m                            resource_variable_ops.BaseResourceVariable))),\n\u001b[1;32m-> 1611\u001b[1;33m         self.captured_inputs)\n\u001b[0m\u001b[0;32m   1612\u001b[0m \u001b[1;33m\u001b[0m\u001b[0m\n\u001b[0;32m   1613\u001b[0m   \u001b[1;32mdef\u001b[0m \u001b[0m_call_flat\u001b[0m\u001b[1;33m(\u001b[0m\u001b[0mself\u001b[0m\u001b[1;33m,\u001b[0m \u001b[0margs\u001b[0m\u001b[1;33m,\u001b[0m \u001b[0mcaptured_inputs\u001b[0m\u001b[1;33m,\u001b[0m \u001b[0mcancellation_manager\u001b[0m\u001b[1;33m=\u001b[0m\u001b[1;32mNone\u001b[0m\u001b[1;33m)\u001b[0m\u001b[1;33m:\u001b[0m\u001b[1;33m\u001b[0m\u001b[1;33m\u001b[0m\u001b[0m\n",
      "\u001b[1;32m~\\AppData\\Roaming\\Python\\Python37\\site-packages\\tensorflow_core\\python\\eager\\function.py\u001b[0m in \u001b[0;36m_call_flat\u001b[1;34m(self, args, captured_inputs, cancellation_manager)\u001b[0m\n\u001b[0;32m   1690\u001b[0m       \u001b[1;31m# No tape is watching; skip to running the function.\u001b[0m\u001b[1;33m\u001b[0m\u001b[1;33m\u001b[0m\u001b[1;33m\u001b[0m\u001b[0m\n\u001b[0;32m   1691\u001b[0m       return self._build_call_outputs(self._inference_function.call(\n\u001b[1;32m-> 1692\u001b[1;33m           ctx, args, cancellation_manager=cancellation_manager))\n\u001b[0m\u001b[0;32m   1693\u001b[0m     forward_backward = self._select_forward_and_backward_functions(\n\u001b[0;32m   1694\u001b[0m         \u001b[0margs\u001b[0m\u001b[1;33m,\u001b[0m\u001b[1;33m\u001b[0m\u001b[1;33m\u001b[0m\u001b[0m\n",
      "\u001b[1;32m~\\AppData\\Roaming\\Python\\Python37\\site-packages\\tensorflow_core\\python\\eager\\function.py\u001b[0m in \u001b[0;36mcall\u001b[1;34m(self, ctx, args, cancellation_manager)\u001b[0m\n\u001b[0;32m    543\u001b[0m               \u001b[0minputs\u001b[0m\u001b[1;33m=\u001b[0m\u001b[0margs\u001b[0m\u001b[1;33m,\u001b[0m\u001b[1;33m\u001b[0m\u001b[1;33m\u001b[0m\u001b[0m\n\u001b[0;32m    544\u001b[0m               \u001b[0mattrs\u001b[0m\u001b[1;33m=\u001b[0m\u001b[1;33m(\u001b[0m\u001b[1;34m\"executor_type\"\u001b[0m\u001b[1;33m,\u001b[0m \u001b[0mexecutor_type\u001b[0m\u001b[1;33m,\u001b[0m \u001b[1;34m\"config_proto\"\u001b[0m\u001b[1;33m,\u001b[0m \u001b[0mconfig\u001b[0m\u001b[1;33m)\u001b[0m\u001b[1;33m,\u001b[0m\u001b[1;33m\u001b[0m\u001b[1;33m\u001b[0m\u001b[0m\n\u001b[1;32m--> 545\u001b[1;33m               ctx=ctx)\n\u001b[0m\u001b[0;32m    546\u001b[0m         \u001b[1;32melse\u001b[0m\u001b[1;33m:\u001b[0m\u001b[1;33m\u001b[0m\u001b[1;33m\u001b[0m\u001b[0m\n\u001b[0;32m    547\u001b[0m           outputs = execute.execute_with_cancellation(\n",
      "\u001b[1;32m~\\AppData\\Roaming\\Python\\Python37\\site-packages\\tensorflow_core\\python\\eager\\execute.py\u001b[0m in \u001b[0;36mquick_execute\u001b[1;34m(op_name, num_outputs, inputs, attrs, ctx, name)\u001b[0m\n\u001b[0;32m     59\u001b[0m     tensors = pywrap_tensorflow.TFE_Py_Execute(ctx._handle, device_name,\n\u001b[0;32m     60\u001b[0m                                                \u001b[0mop_name\u001b[0m\u001b[1;33m,\u001b[0m \u001b[0minputs\u001b[0m\u001b[1;33m,\u001b[0m \u001b[0mattrs\u001b[0m\u001b[1;33m,\u001b[0m\u001b[1;33m\u001b[0m\u001b[1;33m\u001b[0m\u001b[0m\n\u001b[1;32m---> 61\u001b[1;33m                                                num_outputs)\n\u001b[0m\u001b[0;32m     62\u001b[0m   \u001b[1;32mexcept\u001b[0m \u001b[0mcore\u001b[0m\u001b[1;33m.\u001b[0m\u001b[0m_NotOkStatusException\u001b[0m \u001b[1;32mas\u001b[0m \u001b[0me\u001b[0m\u001b[1;33m:\u001b[0m\u001b[1;33m\u001b[0m\u001b[1;33m\u001b[0m\u001b[0m\n\u001b[0;32m     63\u001b[0m     \u001b[1;32mif\u001b[0m \u001b[0mname\u001b[0m \u001b[1;32mis\u001b[0m \u001b[1;32mnot\u001b[0m \u001b[1;32mNone\u001b[0m\u001b[1;33m:\u001b[0m\u001b[1;33m\u001b[0m\u001b[1;33m\u001b[0m\u001b[0m\n",
      "\u001b[1;31mKeyboardInterrupt\u001b[0m: "
     ]
    }
   ],
   "source": [
    "model.fit(x_train, y_train, epochs=200, validation_data=(x_valid, y_valid), \n",
    "         callbacks=[keras.callbacks.EarlyStopping(monitor='val_loss', patience=10)], batch_size=64)"
   ]
  },
  {
   "cell_type": "code",
   "execution_count": 20,
   "metadata": {},
   "outputs": [],
   "source": [
    "testdataset = training_set_scaled[45000:45023]\n",
    "realvalue = sc.inverse_transform(training_set_scaled[45023:45024])"
   ]
  },
  {
   "cell_type": "code",
   "execution_count": 55,
   "metadata": {},
   "outputs": [
    {
     "name": "stdout",
     "output_type": "stream",
     "text": [
      "5000/5000 [==============================] - 1s 130us/sample - loss: 6.7141e-04\n"
     ]
    }
   ],
   "source": [
    "# 23 hours - 7.8006e-04 loss\n",
    "# 48 hours - 7.6 loss\n",
    "# 12 hours - 5.16 loss\n",
    "# 12 hours - 3.893 2 hidden layers one dense layer\n",
    "# 24 hours - 3.1172 2 hidden LMST layers one dense layer\n",
    "# 36 hours - 2.7172 2 hidden LMST layers one dense layer\n",
    "\n",
    "# 12 hour forecast - 48 hours - loss 6.2021\n",
    "#                    72 hours - loss 6.6\n",
    "#                    48 hours - loss 5.9 with 2 hidden layers\n",
    "#                    72 hours - loss 6.1 with 2 hidden layers and 48 neurons\n",
    "mse_test = model.evaluate(x_test, y_test)"
   ]
  },
  {
   "cell_type": "code",
   "execution_count": 56,
   "metadata": {},
   "outputs": [],
   "source": [
    "model.save_weights(\"temp_model_weights.h5\")"
   ]
  },
  {
   "cell_type": "code",
   "execution_count": 512,
   "metadata": {},
   "outputs": [],
   "source": [
    "model = keras.models.load_model(\"temp_model.h5\")"
   ]
  },
  {
   "cell_type": "code",
   "execution_count": 148,
   "metadata": {},
   "outputs": [
    {
     "name": "stdout",
     "output_type": "stream",
     "text": [
      "5000/5000 [==============================] - 1s 283us/sample - loss: 0.2459\n"
     ]
    }
   ],
   "source": [
    "mse_test = model.evaluate(x_test, y_test)"
   ]
  },
  {
   "cell_type": "code",
   "execution_count": 27,
   "metadata": {},
   "outputs": [
    {
     "data": {
      "text/plain": [
       "array([[[0.36513839],\n",
       "        [0.36437777],\n",
       "        [0.36513839],\n",
       "        [0.36589901],\n",
       "        [0.36596239],\n",
       "        [0.36602578],\n",
       "        [0.36818086],\n",
       "        [0.37312487],\n",
       "        [0.37806888],\n",
       "        [0.38326643],\n",
       "        [0.38630889],\n",
       "        [0.38859075],\n",
       "        [0.38846398],\n",
       "        [0.38998521],\n",
       "        [0.38681597],\n",
       "        [0.38681597],\n",
       "        [0.38973167],\n",
       "        [0.39429537],\n",
       "        [0.39353476],\n",
       "        [0.39505599],\n",
       "        [0.39505599],\n",
       "        [0.39657722],\n",
       "        [0.39695753],\n",
       "        [0.39733784]]])"
      ]
     },
     "execution_count": 27,
     "metadata": {},
     "output_type": "execute_result"
    }
   ],
   "source": [
    "x_test[2000:2001]"
   ]
  },
  {
   "cell_type": "code",
   "execution_count": 156,
   "metadata": {},
   "outputs": [
    {
     "data": {
      "text/plain": [
       "array([[0.35381725, 0.3596736 , 0.36333048, 0.367871  , 0.36936575,\n",
       "        0.3753712 , 0.3830894 , 0.38936824, 0.400045  , 0.4061861 ,\n",
       "        0.41096938, 0.41329512]], dtype=float32)"
      ]
     },
     "execution_count": 156,
     "metadata": {},
     "output_type": "execute_result"
    }
   ],
   "source": [
    "model.predict(x_test[2000:2001])"
   ]
  },
  {
   "cell_type": "code",
   "execution_count": 150,
   "metadata": {},
   "outputs": [
    {
     "data": {
      "text/plain": [
       "array([[[0.34561589],\n",
       "        [0.34561589],\n",
       "        [0.40469047],\n",
       "        [0.40469047],\n",
       "        [0.40304247],\n",
       "        [0.40228185],\n",
       "        [0.40380308],\n",
       "        [0.40392985],\n",
       "        [0.40633847],\n",
       "        [0.41140925],\n",
       "        [0.41229664],\n",
       "        [0.41381787]]])"
      ]
     },
     "execution_count": 150,
     "metadata": {},
     "output_type": "execute_result"
    }
   ],
   "source": [
    "y_test[2000:2001]"
   ]
  },
  {
   "cell_type": "code",
   "execution_count": 170,
   "metadata": {},
   "outputs": [
    {
     "data": {
      "text/plain": [
       "<tf.Tensor: shape=(5,), dtype=float32, numpy=\n",
       "array([0.00067175, 0.00142141, 0.00113675, 0.00152775, 0.00079585],\n",
       "      dtype=float32)>"
      ]
     },
     "execution_count": 170,
     "metadata": {},
     "output_type": "execute_result"
    }
   ],
   "source": [
    "keras.losses.mean_squared_error(y_test[110:115], y_pred)"
   ]
  },
  {
   "cell_type": "code",
   "execution_count": 83,
   "metadata": {},
   "outputs": [],
   "source": [
    "from tensorflow import keras"
   ]
  },
  {
   "cell_type": "code",
   "execution_count": 84,
   "metadata": {},
   "outputs": [
    {
     "name": "stdout",
     "output_type": "stream",
     "text": [
      "Train on 50000 samples\n",
      "Epoch 1/2\n",
      "50000/50000 [==============================] - 47s 933us/sample - loss: 0.0130 - acc: 0.2425\n",
      "Epoch 2/2\n",
      "50000/50000 [==============================] - 40s 801us/sample - loss: 0.0044 - acc: 0.2451\n"
     ]
    },
    {
     "data": {
      "text/plain": [
       "<tensorflow.python.keras.callbacks.History at 0x193ac4d90>"
      ]
     },
     "execution_count": 84,
     "metadata": {},
     "output_type": "execute_result"
    }
   ],
   "source": [
    "regressor = keras.models.Sequential()\n",
    "\n",
    "regressor.add(keras.layers.Bidirectional(keras.layers.LSTM(units=30, \n",
    "                                 return_sequences=True, \n",
    "                                 input_shape = (x_train.shape[1],1) ) ))\n",
    "regressor.add(keras.layers.Dropout(0.2))\n",
    "\n",
    "regressor.add(keras.layers.LSTM(units= 30 , return_sequences=True))\n",
    "regressor.add(keras.layers.Dropout(0.2))\n",
    "\n",
    "regressor.add(keras.layers.LSTM(units= 30 , return_sequences=True))\n",
    "regressor.add(keras.layers.Dropout(0.2))\n",
    "\n",
    "regressor.add(keras.layers.LSTM(units= 30))\n",
    "regressor.add(keras.layers.Dropout(0.2))\n",
    "\n",
    "regressor.add(keras.layers.Dense(units = n_future,activation='linear'))\n",
    "regressor.compile(optimizer='adam', loss='mean_squared_error',metrics=['acc'])\n",
    "regressor.fit(x_train, y_train, epochs=2,batch_size=128 )"
   ]
  },
  {
   "cell_type": "code",
   "execution_count": 86,
   "metadata": {},
   "outputs": [
    {
     "name": "stdout",
     "output_type": "stream",
     "text": [
      "[[283.33]\n",
      " [282.94]\n",
      " [282.55]\n",
      " [282.15]\n",
      " [282.54]\n",
      " [282.15]\n",
      " [282.54]\n",
      " [280.25]\n",
      " [280.95]\n",
      " [281.85]\n",
      " [283.42]\n",
      " [285.29]\n",
      " [286.3 ]\n",
      " [286.87]\n",
      " [286.86]\n",
      " [286.73]\n",
      " [286.88]\n",
      " [286.88]\n",
      " [286.02]\n",
      " [285.74]\n",
      " [284.33]\n",
      " [283.32]\n",
      " [282.37]\n",
      " [282.38]\n",
      " [281.99]\n",
      " [281.2 ]\n",
      " [280.6 ]\n",
      " [277.53]\n",
      " [276.99]\n",
      " [276.96]]\n",
      "[[280.38]\n",
      " [281.02]\n",
      " [281.72]\n",
      " [282.32]]\n"
     ]
    }
   ],
   "source": [
    "testdataset = training_set_scaled[40000:40030]\n",
    "print(sc.inverse_transform(testdataset))\n",
    "realvalues = sc.inverse_transform(training_set_scaled[40030:40034])\n",
    "print(realvalues)\n",
    "testdataset = np.reshape(testdataset,(testdataset.shape[1],testdataset.shape[0],1))"
   ]
  },
  {
   "cell_type": "code",
   "execution_count": 88,
   "metadata": {},
   "outputs": [],
   "source": [
    "predicted_temperature = regressor.predict(testdataset)\n",
    "predicted_temperature = sc.inverse_transform(predicted_temperature)\n",
    "predicted_temperature = np.reshape(predicted_temperature,(predicted_temperature.shape[1],predicted_temperature.shape[0]))"
   ]
  },
  {
   "cell_type": "code",
   "execution_count": 89,
   "metadata": {},
   "outputs": [
    {
     "data": {
      "text/plain": [
       "array([[282.9921 ],\n",
       "       [283.04633],\n",
       "       [283.08838],\n",
       "       [283.04767]], dtype=float32)"
      ]
     },
     "execution_count": 89,
     "metadata": {},
     "output_type": "execute_result"
    }
   ],
   "source": [
    "predicted_temperature"
   ]
  },
  {
   "cell_type": "code",
   "execution_count": 90,
   "metadata": {},
   "outputs": [
    {
     "data": {
      "text/plain": [
       "array([[280.38],\n",
       "       [281.02],\n",
       "       [281.72],\n",
       "       [282.32]])"
      ]
     },
     "execution_count": 90,
     "metadata": {},
     "output_type": "execute_result"
    }
   ],
   "source": [
    "realvalues"
   ]
  },
  {
   "cell_type": "code",
   "execution_count": 28,
   "metadata": {},
   "outputs": [],
   "source": [
    "temperature_model = keras.models.load_model(\"temp_model.h5\", custom_objects=None, compile=True)"
   ]
  },
  {
   "cell_type": "code",
   "execution_count": 29,
   "metadata": {},
   "outputs": [],
   "source": [
    "dataset = [[[0.5], [0.5], [0.5], [0.5], [0.5], [0.5], [0.5], [0.5], [0.5], [0.5], [0.5], [0.5], [0.5], [0.5], [0.5], [0.5], [0.5], [0.5], [0.5], [0.5], [0.5], [0.5], [0.5], [0.5], ]]"
   ]
  },
  {
   "cell_type": "code",
   "execution_count": 32,
   "metadata": {},
   "outputs": [],
   "source": [
    "dataset = np.array(dataset)"
   ]
  },
  {
   "cell_type": "code",
   "execution_count": 33,
   "metadata": {},
   "outputs": [
    {
     "data": {
      "text/plain": [
       "(1, 24, 1)"
      ]
     },
     "execution_count": 33,
     "metadata": {},
     "output_type": "execute_result"
    }
   ],
   "source": [
    "dataset.shape"
   ]
  },
  {
   "cell_type": "code",
   "execution_count": 34,
   "metadata": {},
   "outputs": [
    {
     "data": {
      "text/plain": [
       "array([[0.49810135, 0.5008137 , 0.501759  , 0.4999187 , 0.49991044,\n",
       "        0.49921298, 0.49998742, 0.49981803, 0.5007866 , 0.4992501 ,\n",
       "        0.4986806 , 0.4969843 ]], dtype=float32)"
      ]
     },
     "execution_count": 34,
     "metadata": {},
     "output_type": "execute_result"
    }
   ],
   "source": [
    "temperature_model.predict(dataset)"
   ]
  },
  {
   "cell_type": "code",
   "execution_count": 35,
   "metadata": {},
   "outputs": [
    {
     "name": "stdout",
     "output_type": "stream",
     "text": [
      "[[0.49810135 0.5008137  0.501759   0.4999187  0.49991044 0.49921298\n",
      "  0.49998742 0.49981803 0.5007866  0.4992501  0.4986806  0.4969843 ]]\n"
     ]
    }
   ],
   "source": [
    "temperature_model = keras.models.load_model(\"temp_model.h5\")\n",
    "\n",
    "dataset = [[[0.5], [0.5], [0.5], [0.5], [0.5], [0.5], [0.5], [0.5], [0.5], [0.5], [0.5], [0.5], [0.5], [0.5], [0.5], [0.5], [0.5], [0.5], [0.5], [0.5], [0.5], [0.5], [0.5], [0.5]]]\n",
    "dataset = np.array(dataset)\n",
    "\n",
    "prediction = temperature_model.predict(dataset)\n",
    "\n",
    "print(prediction)"
   ]
  },
  {
   "cell_type": "code",
   "execution_count": null,
   "metadata": {},
   "outputs": [],
   "source": []
  }
 ],
 "metadata": {
  "kernelspec": {
   "display_name": "Python 3",
   "language": "python",
   "name": "python3"
  },
  "language_info": {
   "codemirror_mode": {
    "name": "ipython",
    "version": 3
   },
   "file_extension": ".py",
   "mimetype": "text/x-python",
   "name": "python",
   "nbconvert_exporter": "python",
   "pygments_lexer": "ipython3",
   "version": "3.7.6"
  }
 },
 "nbformat": 4,
 "nbformat_minor": 2
}
