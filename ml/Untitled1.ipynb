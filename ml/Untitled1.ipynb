{
 "cells": [
  {
   "cell_type": "code",
   "execution_count": 2,
   "metadata": {},
   "outputs": [
    {
     "name": "stdout",
     "output_type": "stream",
     "text": [
      "[[0.50053567 0.49856517 0.4989853  0.5008122  0.49751356 0.5004559\n",
      "  0.5004481  0.49604076 0.4945061  0.49493393 0.49590218 0.49004474]]\n"
     ]
    }
   ],
   "source": [
    "import numpy as np\n",
    "from tensorflow import keras\n",
    "\n",
    "\n",
    "from tensorflow import keras\n",
    "\n",
    "model = keras.models.Sequential([\n",
    "    keras.layers.LSTM(30, return_sequences=True, input_shape=[None, 1]),\n",
    "    keras.layers.LSTM(30, return_sequences=True),\n",
    "    keras.layers.LSTM(30),\n",
    "    keras.layers.Dense(12)\n",
    "])\n",
    "\n",
    "model.load_weights(\"temp_model_weights.h5\")\n",
    "\n",
    "\n",
    "dataset = [[[0.5], [0.5], [0.5], [0.5], [0.5], [0.5], [0.5], [0.5], [0.5], [0.5], [0.5], [0.5], [0.5], [0.5], [0.5], [0.5], [0.5], [0.5], [0.5], [0.5], [0.5], [0.5], [0.5], [0.5]]]\n",
    "dataset = np.array(dataset)\n",
    "\n",
    "prediction = model.predict(dataset)\n",
    "\n",
    "print(prediction)"
   ]
  },
  {
   "cell_type": "code",
   "execution_count": null,
   "metadata": {},
   "outputs": [],
   "source": []
  }
 ],
 "metadata": {
  "kernelspec": {
   "display_name": "Python 3",
   "language": "python",
   "name": "python3"
  },
  "language_info": {
   "codemirror_mode": {
    "name": "ipython",
    "version": 3
   },
   "file_extension": ".py",
   "mimetype": "text/x-python",
   "name": "python",
   "nbconvert_exporter": "python",
   "pygments_lexer": "ipython3",
   "version": "3.7.6"
  }
 },
 "nbformat": 4,
 "nbformat_minor": 4
}
